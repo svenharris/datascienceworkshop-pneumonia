{
 "cells": [
  {
   "cell_type": "markdown",
   "metadata": {},
   "source": [
    "# Pneumonia_Training"
   ]
  },
  {
   "cell_type": "markdown",
   "metadata": {},
   "source": [
    "Versions"
   ]
  },
  {
   "cell_type": "markdown",
   "metadata": {},
   "source": [
    "* v001_Initial commit"
   ]
  },
  {
   "cell_type": "markdown",
   "metadata": {},
   "source": [
    "Imports"
   ]
  },
  {
   "cell_type": "code",
   "execution_count": 1,
   "metadata": {},
   "outputs": [
    {
     "name": "stderr",
     "output_type": "stream",
     "text": [
      "C:\\Users\\Lorenzo\\Anaconda3\\envs\\rsna\\lib\\site-packages\\sklearn\\ensemble\\weight_boosting.py:29: DeprecationWarning: numpy.core.umath_tests is an internal NumPy module and should not be imported. It will be removed in a future NumPy release.\n",
      "  from numpy.core.umath_tests import inner1d\n"
     ]
    }
   ],
   "source": [
    "# general\n",
    "import numpy as np\n",
    "import pandas as pd\n",
    "import os\n",
    "import pydicom\n",
    "import matplotlib.pyplot as plt\n",
    "import datetime\n",
    "\n",
    "# keras\n",
    "# from keras.applications.inception_v3 import InceptionV3\n",
    "# from keras.preprocessing import image\n",
    "# from keras.applications.vgg16 import preprocess_input\n",
    "\n",
    "# sklearn\n",
    "from sklearn.model_selection import train_test_split\n",
    "from sklearn.preprocessing import StandardScaler\n",
    "from sklearn.datasets import make_moons, make_circles, make_classification\n",
    "from sklearn.neural_network import MLPClassifier\n",
    "from sklearn.neighbors import KNeighborsClassifier\n",
    "from sklearn.svm import SVC\n",
    "from sklearn.gaussian_process import GaussianProcessClassifier\n",
    "from sklearn.gaussian_process.kernels import RBF\n",
    "from sklearn.tree import DecisionTreeClassifier\n",
    "from sklearn.ensemble import RandomForestClassifier, AdaBoostClassifier\n",
    "from sklearn.naive_bayes import GaussianNB\n",
    "from sklearn.discriminant_analysis import QuadraticDiscriminantAnalysis"
   ]
  },
  {
   "cell_type": "markdown",
   "metadata": {},
   "source": [
    "Constants"
   ]
  },
  {
   "cell_type": "code",
   "execution_count": 3,
   "metadata": {},
   "outputs": [
    {
     "ename": "FileNotFoundError",
     "evalue": "[WinError 3] The system cannot find the path specified: '\\\\Users\\\\Lorenzo\\\\Downloads/Data\\\\train_images\\\\features'",
     "output_type": "error",
     "traceback": [
      "\u001b[1;31m---------------------------------------------------------------------------\u001b[0m",
      "\u001b[1;31mFileNotFoundError\u001b[0m                         Traceback (most recent call last)",
      "\u001b[1;32m<ipython-input-3-bd5c66a77fc2>\u001b[0m in \u001b[0;36m<module>\u001b[1;34m()\u001b[0m\n\u001b[0;32m      8\u001b[0m \u001b[0mTRAIN_FEATURES_DIR\u001b[0m \u001b[1;33m=\u001b[0m \u001b[0mos\u001b[0m\u001b[1;33m.\u001b[0m\u001b[0mpath\u001b[0m\u001b[1;33m.\u001b[0m\u001b[0mjoin\u001b[0m\u001b[1;33m(\u001b[0m\u001b[0mTRAIN_IMAGES\u001b[0m\u001b[1;33m,\u001b[0m \u001b[1;34m'features'\u001b[0m\u001b[1;33m)\u001b[0m\u001b[1;33m\u001b[0m\u001b[0m\n\u001b[0;32m      9\u001b[0m \u001b[1;33m\u001b[0m\u001b[0m\n\u001b[1;32m---> 10\u001b[1;33m \u001b[0mos\u001b[0m\u001b[1;33m.\u001b[0m\u001b[0mlistdir\u001b[0m\u001b[1;33m(\u001b[0m\u001b[0mTRAIN_FEATURES_DIR\u001b[0m\u001b[1;33m)\u001b[0m\u001b[1;33m[\u001b[0m\u001b[1;33m:\u001b[0m\u001b[1;36m10\u001b[0m\u001b[1;33m]\u001b[0m\u001b[1;33m\u001b[0m\u001b[0m\n\u001b[0m",
      "\u001b[1;31mFileNotFoundError\u001b[0m: [WinError 3] The system cannot find the path specified: '\\\\Users\\\\Lorenzo\\\\Downloads/Data\\\\train_images\\\\features'"
     ]
    }
   ],
   "source": [
    "DATA_DIR = os.path.join(os.path.expandvars('%HOMEPATH%'), 'Downloads/Data')\n",
    "\n",
    "TRAIN_DCM = os.path.join(DATA_DIR, \"stage_1_train_images\")\n",
    "TEST_DCM = os.path.join(DATA_DIR, \"stage_1_test_images\")\n",
    "TRAIN_IMAGES = os.path.join(DATA_DIR, \"train_images\")\n",
    "TEST_IMAGES = os.path.join(DATA_DIR, \"test_images\")\n",
    "\n",
    "TRAIN_FEATURES_DIR = os.path.join(TRAIN_IMAGES, 'features')\n",
    "\n",
    "os.listdir(TRAIN_FEATURES_DIR)[:10]"
   ]
  },
  {
   "cell_type": "markdown",
   "metadata": {},
   "source": [
    "## Extract features using NN"
   ]
  },
  {
   "cell_type": "code",
   "execution_count": 14,
   "metadata": {
    "collapsed": true
   },
   "outputs": [],
   "source": [
    "# general\n",
    "import numpy as np\n",
    "import pandas as pd\n",
    "import os\n",
    "import pydicom\n",
    "from scipy import misc"
   ]
  },
  {
   "cell_type": "code",
   "execution_count": 17,
   "metadata": {
    "collapsed": true
   },
   "outputs": [],
   "source": [
    "def dcm2np(dcm_path, target_size=(224, 224)):\n",
    "    \"\"\" Transforms a dcm into a np.array\n",
    "    \"\"\"\n",
    "    # --- Open DICOM file\n",
    "    d = pydicom.read_file(dcm_path)\n",
    "    im = d.pixel_array\n",
    "\n",
    "    # --- Convert from single-channel grayscale to 3-channel RGB\n",
    "    im = np.stack([im] * 3, axis=2)\n",
    "    \n",
    "    im = scipy.misc.imresize(im, target_size, interp='bilinear', mode=None)\n",
    "    \n",
    "    return im"
   ]
  },
  {
   "cell_type": "code",
   "execution_count": 18,
   "metadata": {},
   "outputs": [
    {
     "name": "stderr",
     "output_type": "stream",
     "text": [
      "C:\\Users\\loren\\Anaconda3\\envs\\rsna\\lib\\site-packages\\ipykernel\\__main__.py:11: DeprecationWarning: `imresize` is deprecated!\n",
      "`imresize` is deprecated in SciPy 1.0.0, and will be removed in 1.2.0.\n",
      "Use ``skimage.transform.resize`` instead.\n"
     ]
    },
    {
     "data": {
      "text/plain": [
       "(224, 224, 3)"
      ]
     },
     "execution_count": 18,
     "metadata": {},
     "output_type": "execute_result"
    }
   ],
   "source": [
    "gna = dcm2np(r'C:\\Users\\loren\\Downloads\\stage_1_train_images\\00aecb01-a116-45a2-956c-08d2fa55433f.dcm')\n",
    "\n",
    "gna.shape"
   ]
  },
  {
   "cell_type": "code",
   "execution_count": 5,
   "metadata": {
    "collapsed": true
   },
   "outputs": [],
   "source": [
    "def _get_feature_values(img_path, model):\n",
    "    \"\"\" Get the feature values for a specific image out of pre-trained model \n",
    "    \"\"\"\n",
    "    im = dcm2np(img_path)\n",
    "    img = image.load_img(img_path, target_size=(224, 224))\n",
    "    x = image.img_to_array(img)\n",
    "    x = np.expand_dims(x, axis=0)\n",
    "    x = preprocess_input(x)\n",
    "    return model.predict(x)[0].reshape(-1)\n",
    "\n",
    "def _create_pretrained_feature_df(class_directory):\n",
    "    \"\"\" Create features dataframe based on pretrained model \n",
    "    \"\"\"\n",
    "    features = []\n",
    "    n_max = len(os.listdir(class_directory))\n",
    "    divisor = 100\n",
    "    for n, file in enumerate(os.listdir(class_directory)):\n",
    "        if( n % (n_max/divisor) ==0 ):\n",
    "            print('Scoring image {0}'.format(n/n_max))\n",
    "        full_path = os.path.join(class_directory, file)\n",
    "        features.append(_get_feature_values(full_path, model))\n",
    "    return pd.DataFrame(np.stack(features))\n",
    "\n",
    "def _build_basic_rf(df):\n",
    "    \"\"\" Build basic random forest based on extracted pre-trained model \n",
    "    \"\"\"\n",
    "    x_train, x_test, y_train, y_test = train_test_split(df[df.columns.difference([\"Target\"])], df[\"Target\"])\n",
    "    rf = RandomForestClassifier(n_estimators=100, max_depth=6, min_samples_leaf=15, n_jobs=-1, class_weight=\"balanced\")\n",
    "    rf.fit(x_train, y_train)\n",
    "    train_preds = rf.predict_proba(x_train)\n",
    "    test_preds = rf.predict_proba(x_test)\n",
    "    print(f\"AUC for train set is {roc_auc_score(y_train, train_preds[:,1])}\")\n",
    "    print(f\"AUC for test set is {roc_auc_score(y_test, test_preds[:,1])}\")\n",
    "    return rf"
   ]
  },
  {
   "cell_type": "code",
   "execution_count": null,
   "metadata": {
    "collapsed": true
   },
   "outputs": [],
   "source": [
    "model = InceptionV3(weights='imagenet', include_top=False)\n",
    "\n",
    "pos_df = _create_pretrained_feature_df(os.path.join(TRAIN_IMAGES, \"positive\"))\n",
    "pos_df[\"Target\"] = 1\n",
    "\n",
    "neg_df = _create_pretrained_feature_df(os.path.join(TRAIN_IMAGES, \"negative\"))\n",
    "neg_df[\"Target\"] = 0\n",
    "\n",
    "full_df = pd.concat([pos_df, neg_df])"
   ]
  },
  {
   "cell_type": "code",
   "execution_count": 10,
   "metadata": {
    "collapsed": true
   },
   "outputs": [],
   "source": [
    "pos_df.to_csv(os.path.join(DATA_DIR, 'Inception_v3_positive.csv'))"
   ]
  },
  {
   "cell_type": "code",
   "execution_count": 6,
   "metadata": {
    "scrolled": true
   },
   "outputs": [
    {
     "name": "stdout",
     "output_type": "stream",
     "text": [
      "Scoring image 0.0\n",
      "Scoring image 0.0\n",
      "Scoring image 4.0\n",
      "Scoring image 8.0\n"
     ]
    },
    {
     "ename": "OSError",
     "evalue": "image file is truncated",
     "output_type": "error",
     "traceback": [
      "\u001b[1;31m---------------------------------------------------------------------------\u001b[0m",
      "\u001b[1;31merror\u001b[0m                                     Traceback (most recent call last)",
      "\u001b[1;32m~\\Anaconda3\\envs\\tensorflow\\lib\\site-packages\\PIL\\ImageFile.py\u001b[0m in \u001b[0;36mload\u001b[1;34m(self)\u001b[0m\n\u001b[0;32m    218\u001b[0m                             \u001b[1;32mtry\u001b[0m\u001b[1;33m:\u001b[0m\u001b[1;33m\u001b[0m\u001b[0m\n\u001b[1;32m--> 219\u001b[1;33m                                 \u001b[0ms\u001b[0m \u001b[1;33m=\u001b[0m \u001b[0mread\u001b[0m\u001b[1;33m(\u001b[0m\u001b[0mself\u001b[0m\u001b[1;33m.\u001b[0m\u001b[0mdecodermaxblock\u001b[0m\u001b[1;33m)\u001b[0m\u001b[1;33m\u001b[0m\u001b[0m\n\u001b[0m\u001b[0;32m    220\u001b[0m                             \u001b[1;32mexcept\u001b[0m \u001b[1;33m(\u001b[0m\u001b[0mIndexError\u001b[0m\u001b[1;33m,\u001b[0m \u001b[0mstruct\u001b[0m\u001b[1;33m.\u001b[0m\u001b[0merror\u001b[0m\u001b[1;33m)\u001b[0m\u001b[1;33m:\u001b[0m  \u001b[1;31m# truncated png/gif\u001b[0m\u001b[1;33m\u001b[0m\u001b[0m\n",
      "\u001b[1;32m~\\Anaconda3\\envs\\tensorflow\\lib\\site-packages\\PIL\\PngImagePlugin.py\u001b[0m in \u001b[0;36mload_read\u001b[1;34m(self, read_bytes)\u001b[0m\n\u001b[0;32m    619\u001b[0m \u001b[1;33m\u001b[0m\u001b[0m\n\u001b[1;32m--> 620\u001b[1;33m             \u001b[0mcid\u001b[0m\u001b[1;33m,\u001b[0m \u001b[0mpos\u001b[0m\u001b[1;33m,\u001b[0m \u001b[0mlength\u001b[0m \u001b[1;33m=\u001b[0m \u001b[0mself\u001b[0m\u001b[1;33m.\u001b[0m\u001b[0mpng\u001b[0m\u001b[1;33m.\u001b[0m\u001b[0mread\u001b[0m\u001b[1;33m(\u001b[0m\u001b[1;33m)\u001b[0m\u001b[1;33m\u001b[0m\u001b[0m\n\u001b[0m\u001b[0;32m    621\u001b[0m \u001b[1;33m\u001b[0m\u001b[0m\n",
      "\u001b[1;32m~\\Anaconda3\\envs\\tensorflow\\lib\\site-packages\\PIL\\PngImagePlugin.py\u001b[0m in \u001b[0;36mread\u001b[1;34m(self)\u001b[0m\n\u001b[0;32m    114\u001b[0m             \u001b[0mpos\u001b[0m \u001b[1;33m=\u001b[0m \u001b[0mself\u001b[0m\u001b[1;33m.\u001b[0m\u001b[0mfp\u001b[0m\u001b[1;33m.\u001b[0m\u001b[0mtell\u001b[0m\u001b[1;33m(\u001b[0m\u001b[1;33m)\u001b[0m\u001b[1;33m\u001b[0m\u001b[0m\n\u001b[1;32m--> 115\u001b[1;33m             \u001b[0mlength\u001b[0m \u001b[1;33m=\u001b[0m \u001b[0mi32\u001b[0m\u001b[1;33m(\u001b[0m\u001b[0ms\u001b[0m\u001b[1;33m)\u001b[0m\u001b[1;33m\u001b[0m\u001b[0m\n\u001b[0m\u001b[0;32m    116\u001b[0m \u001b[1;33m\u001b[0m\u001b[0m\n",
      "\u001b[1;32m~\\Anaconda3\\envs\\tensorflow\\lib\\site-packages\\PIL\\_binary.py\u001b[0m in \u001b[0;36mi32be\u001b[1;34m(c, o)\u001b[0m\n\u001b[0;32m     76\u001b[0m \u001b[1;32mdef\u001b[0m \u001b[0mi32be\u001b[0m\u001b[1;33m(\u001b[0m\u001b[0mc\u001b[0m\u001b[1;33m,\u001b[0m \u001b[0mo\u001b[0m\u001b[1;33m=\u001b[0m\u001b[1;36m0\u001b[0m\u001b[1;33m)\u001b[0m\u001b[1;33m:\u001b[0m\u001b[1;33m\u001b[0m\u001b[0m\n\u001b[1;32m---> 77\u001b[1;33m     \u001b[1;32mreturn\u001b[0m \u001b[0munpack_from\u001b[0m\u001b[1;33m(\u001b[0m\u001b[1;34m\">I\"\u001b[0m\u001b[1;33m,\u001b[0m \u001b[0mc\u001b[0m\u001b[1;33m,\u001b[0m \u001b[0mo\u001b[0m\u001b[1;33m)\u001b[0m\u001b[1;33m[\u001b[0m\u001b[1;36m0\u001b[0m\u001b[1;33m]\u001b[0m\u001b[1;33m\u001b[0m\u001b[0m\n\u001b[0m\u001b[0;32m     78\u001b[0m \u001b[1;33m\u001b[0m\u001b[0m\n",
      "\u001b[1;31merror\u001b[0m: unpack_from requires a buffer of at least 4 bytes",
      "\nDuring handling of the above exception, another exception occurred:\n",
      "\u001b[1;31mOSError\u001b[0m                                   Traceback (most recent call last)",
      "\u001b[1;32m<ipython-input-6-3e6eb8dc6497>\u001b[0m in \u001b[0;36m<module>\u001b[1;34m()\u001b[0m\n\u001b[0;32m      4\u001b[0m \u001b[0mpos_df\u001b[0m\u001b[1;33m[\u001b[0m\u001b[1;34m\"Target\"\u001b[0m\u001b[1;33m]\u001b[0m \u001b[1;33m=\u001b[0m \u001b[1;36m1\u001b[0m\u001b[1;33m\u001b[0m\u001b[0m\n\u001b[0;32m      5\u001b[0m \u001b[1;33m\u001b[0m\u001b[0m\n\u001b[1;32m----> 6\u001b[1;33m \u001b[0mneg_df\u001b[0m \u001b[1;33m=\u001b[0m \u001b[0m_create_pretrained_feature_df\u001b[0m\u001b[1;33m(\u001b[0m\u001b[0mos\u001b[0m\u001b[1;33m.\u001b[0m\u001b[0mpath\u001b[0m\u001b[1;33m.\u001b[0m\u001b[0mjoin\u001b[0m\u001b[1;33m(\u001b[0m\u001b[0mTRAIN_IMAGES\u001b[0m\u001b[1;33m,\u001b[0m \u001b[1;34m\"negative\"\u001b[0m\u001b[1;33m)\u001b[0m\u001b[1;33m)\u001b[0m\u001b[1;33m\u001b[0m\u001b[0m\n\u001b[0m\u001b[0;32m      7\u001b[0m \u001b[0mneg_df\u001b[0m\u001b[1;33m[\u001b[0m\u001b[1;34m\"Target\"\u001b[0m\u001b[1;33m]\u001b[0m \u001b[1;33m=\u001b[0m \u001b[1;36m0\u001b[0m\u001b[1;33m\u001b[0m\u001b[0m\n\u001b[0;32m      8\u001b[0m \u001b[1;33m\u001b[0m\u001b[0m\n",
      "\u001b[1;32m<ipython-input-5-5f724f951300>\u001b[0m in \u001b[0;36m_create_pretrained_feature_df\u001b[1;34m(class_directory)\u001b[0m\n\u001b[0;32m     18\u001b[0m             \u001b[0mprint\u001b[0m\u001b[1;33m(\u001b[0m\u001b[1;34m'Scoring image {0}'\u001b[0m\u001b[1;33m.\u001b[0m\u001b[0mformat\u001b[0m\u001b[1;33m(\u001b[0m\u001b[0mn\u001b[0m\u001b[1;33m/\u001b[0m\u001b[1;33m(\u001b[0m\u001b[0mn_max\u001b[0m\u001b[1;33m/\u001b[0m\u001b[0mdivisor\u001b[0m\u001b[1;33m)\u001b[0m\u001b[1;33m)\u001b[0m\u001b[1;33m)\u001b[0m\u001b[1;33m\u001b[0m\u001b[0m\n\u001b[0;32m     19\u001b[0m         \u001b[0mfull_path\u001b[0m \u001b[1;33m=\u001b[0m \u001b[0mos\u001b[0m\u001b[1;33m.\u001b[0m\u001b[0mpath\u001b[0m\u001b[1;33m.\u001b[0m\u001b[0mjoin\u001b[0m\u001b[1;33m(\u001b[0m\u001b[0mclass_directory\u001b[0m\u001b[1;33m,\u001b[0m \u001b[0mfile\u001b[0m\u001b[1;33m)\u001b[0m\u001b[1;33m\u001b[0m\u001b[0m\n\u001b[1;32m---> 20\u001b[1;33m         \u001b[0mfeatures\u001b[0m\u001b[1;33m.\u001b[0m\u001b[0mappend\u001b[0m\u001b[1;33m(\u001b[0m\u001b[0m_get_feature_values\u001b[0m\u001b[1;33m(\u001b[0m\u001b[0mfull_path\u001b[0m\u001b[1;33m,\u001b[0m \u001b[0mmodel\u001b[0m\u001b[1;33m)\u001b[0m\u001b[1;33m)\u001b[0m\u001b[1;33m\u001b[0m\u001b[0m\n\u001b[0m\u001b[0;32m     21\u001b[0m     \u001b[1;32mreturn\u001b[0m \u001b[0mpd\u001b[0m\u001b[1;33m.\u001b[0m\u001b[0mDataFrame\u001b[0m\u001b[1;33m(\u001b[0m\u001b[0mnp\u001b[0m\u001b[1;33m.\u001b[0m\u001b[0mstack\u001b[0m\u001b[1;33m(\u001b[0m\u001b[0mfeatures\u001b[0m\u001b[1;33m)\u001b[0m\u001b[1;33m)\u001b[0m\u001b[1;33m\u001b[0m\u001b[0m\n\u001b[0;32m     22\u001b[0m \u001b[1;33m\u001b[0m\u001b[0m\n",
      "\u001b[1;32m<ipython-input-5-5f724f951300>\u001b[0m in \u001b[0;36m_get_feature_values\u001b[1;34m(img_path, model)\u001b[0m\n\u001b[0;32m      2\u001b[0m     \"\"\" Get the feature values for a specific image out of pre-trained model \n\u001b[0;32m      3\u001b[0m     \"\"\"\n\u001b[1;32m----> 4\u001b[1;33m     \u001b[0mimg\u001b[0m \u001b[1;33m=\u001b[0m \u001b[0mimage\u001b[0m\u001b[1;33m.\u001b[0m\u001b[0mload_img\u001b[0m\u001b[1;33m(\u001b[0m\u001b[0mimg_path\u001b[0m\u001b[1;33m,\u001b[0m \u001b[0mtarget_size\u001b[0m\u001b[1;33m=\u001b[0m\u001b[1;33m(\u001b[0m\u001b[1;36m224\u001b[0m\u001b[1;33m,\u001b[0m \u001b[1;36m224\u001b[0m\u001b[1;33m)\u001b[0m\u001b[1;33m)\u001b[0m\u001b[1;33m\u001b[0m\u001b[0m\n\u001b[0m\u001b[0;32m      5\u001b[0m     \u001b[0mx\u001b[0m \u001b[1;33m=\u001b[0m \u001b[0mimage\u001b[0m\u001b[1;33m.\u001b[0m\u001b[0mimg_to_array\u001b[0m\u001b[1;33m(\u001b[0m\u001b[0mimg\u001b[0m\u001b[1;33m)\u001b[0m\u001b[1;33m\u001b[0m\u001b[0m\n\u001b[0;32m      6\u001b[0m     \u001b[0mx\u001b[0m \u001b[1;33m=\u001b[0m \u001b[0mnp\u001b[0m\u001b[1;33m.\u001b[0m\u001b[0mexpand_dims\u001b[0m\u001b[1;33m(\u001b[0m\u001b[0mx\u001b[0m\u001b[1;33m,\u001b[0m \u001b[0maxis\u001b[0m\u001b[1;33m=\u001b[0m\u001b[1;36m0\u001b[0m\u001b[1;33m)\u001b[0m\u001b[1;33m\u001b[0m\u001b[0m\n",
      "\u001b[1;32m~\\Anaconda3\\envs\\tensorflow\\lib\\site-packages\\keras_preprocessing\\image.py\u001b[0m in \u001b[0;36mload_img\u001b[1;34m(path, grayscale, color_mode, target_size, interpolation)\u001b[0m\n\u001b[0;32m    502\u001b[0m     \u001b[1;32melif\u001b[0m \u001b[0mcolor_mode\u001b[0m \u001b[1;33m==\u001b[0m \u001b[1;34m'rgb'\u001b[0m\u001b[1;33m:\u001b[0m\u001b[1;33m\u001b[0m\u001b[0m\n\u001b[0;32m    503\u001b[0m         \u001b[1;32mif\u001b[0m \u001b[0mimg\u001b[0m\u001b[1;33m.\u001b[0m\u001b[0mmode\u001b[0m \u001b[1;33m!=\u001b[0m \u001b[1;34m'RGB'\u001b[0m\u001b[1;33m:\u001b[0m\u001b[1;33m\u001b[0m\u001b[0m\n\u001b[1;32m--> 504\u001b[1;33m             \u001b[0mimg\u001b[0m \u001b[1;33m=\u001b[0m \u001b[0mimg\u001b[0m\u001b[1;33m.\u001b[0m\u001b[0mconvert\u001b[0m\u001b[1;33m(\u001b[0m\u001b[1;34m'RGB'\u001b[0m\u001b[1;33m)\u001b[0m\u001b[1;33m\u001b[0m\u001b[0m\n\u001b[0m\u001b[0;32m    505\u001b[0m     \u001b[1;32melse\u001b[0m\u001b[1;33m:\u001b[0m\u001b[1;33m\u001b[0m\u001b[0m\n\u001b[0;32m    506\u001b[0m         \u001b[1;32mraise\u001b[0m \u001b[0mValueError\u001b[0m\u001b[1;33m(\u001b[0m\u001b[1;34m'color_mode must be \"grayscale\", \"rbg\", or \"rgba\"'\u001b[0m\u001b[1;33m)\u001b[0m\u001b[1;33m\u001b[0m\u001b[0m\n",
      "\u001b[1;32m~\\Anaconda3\\envs\\tensorflow\\lib\\site-packages\\PIL\\Image.py\u001b[0m in \u001b[0;36mconvert\u001b[1;34m(self, mode, matrix, dither, palette, colors)\u001b[0m\n\u001b[0;32m    890\u001b[0m         \"\"\"\n\u001b[0;32m    891\u001b[0m \u001b[1;33m\u001b[0m\u001b[0m\n\u001b[1;32m--> 892\u001b[1;33m         \u001b[0mself\u001b[0m\u001b[1;33m.\u001b[0m\u001b[0mload\u001b[0m\u001b[1;33m(\u001b[0m\u001b[1;33m)\u001b[0m\u001b[1;33m\u001b[0m\u001b[0m\n\u001b[0m\u001b[0;32m    893\u001b[0m \u001b[1;33m\u001b[0m\u001b[0m\n\u001b[0;32m    894\u001b[0m         \u001b[1;32mif\u001b[0m \u001b[1;32mnot\u001b[0m \u001b[0mmode\u001b[0m \u001b[1;32mand\u001b[0m \u001b[0mself\u001b[0m\u001b[1;33m.\u001b[0m\u001b[0mmode\u001b[0m \u001b[1;33m==\u001b[0m \u001b[1;34m\"P\"\u001b[0m\u001b[1;33m:\u001b[0m\u001b[1;33m\u001b[0m\u001b[0m\n",
      "\u001b[1;32m~\\Anaconda3\\envs\\tensorflow\\lib\\site-packages\\PIL\\ImageFile.py\u001b[0m in \u001b[0;36mload\u001b[1;34m(self)\u001b[0m\n\u001b[0;32m    222\u001b[0m                                     \u001b[1;32mbreak\u001b[0m\u001b[1;33m\u001b[0m\u001b[0m\n\u001b[0;32m    223\u001b[0m                                 \u001b[1;32melse\u001b[0m\u001b[1;33m:\u001b[0m\u001b[1;33m\u001b[0m\u001b[0m\n\u001b[1;32m--> 224\u001b[1;33m                                     \u001b[1;32mraise\u001b[0m \u001b[0mIOError\u001b[0m\u001b[1;33m(\u001b[0m\u001b[1;34m\"image file is truncated\"\u001b[0m\u001b[1;33m)\u001b[0m\u001b[1;33m\u001b[0m\u001b[0m\n\u001b[0m\u001b[0;32m    225\u001b[0m \u001b[1;33m\u001b[0m\u001b[0m\n\u001b[0;32m    226\u001b[0m                             \u001b[1;32mif\u001b[0m \u001b[1;32mnot\u001b[0m \u001b[0ms\u001b[0m\u001b[1;33m:\u001b[0m  \u001b[1;31m# truncated jpeg\u001b[0m\u001b[1;33m\u001b[0m\u001b[0m\n",
      "\u001b[1;31mOSError\u001b[0m: image file is truncated"
     ]
    }
   ],
   "source": [
    "rf_trained = _build_basic_rf(full_df)"
   ]
  },
  {
   "cell_type": "markdown",
   "metadata": {},
   "source": [
    "## Classifiers"
   ]
  },
  {
   "cell_type": "code",
   "execution_count": 2,
   "metadata": {},
   "outputs": [],
   "source": [
    "classifiers = {\n",
    "    \"Nearest Neighbors\":KNeighborsClassifier(3),\n",
    "    \"Linear SVM\":SVC(kernel=\"linear\", C=0.025),\n",
    "    \"RBF SVM\":SVC(gamma=2, C=1),\n",
    "    \"Gaussian Process\":GaussianProcessClassifier(1.0 * RBF(1.0), warm_start=True),\n",
    "    \"Decision Tree\":DecisionTreeClassifier(max_depth=5),\n",
    "    \"Random Forest\":RandomForestClassifier(max_depth=5, n_estimators=10, max_features=1),\n",
    "    \"Neural Net\":MLPClassifier(alpha=1),\n",
    "    \"AdaBoost\":AdaBoostClassifier(),\n",
    "    \"Naive Bayes\":GaussianNB(),\n",
    "    \"QDA\":QuadraticDiscriminantAnalysis()\n",
    "}"
   ]
  },
  {
   "cell_type": "code",
   "execution_count": 3,
   "metadata": {},
   "outputs": [
    {
     "data": {
      "text/plain": [
       "['001_2349-202 - Courtyard - CON04 - B19 to C6 (HOLLO-BOLTED CONNECTION).pdf',\n",
       " '001_WC1-2940-LML-DOC-00-0078_iss1_rev00.docx',\n",
       " '001_WC1-2940-LML-DOC-00-0078_iss1_rev00.rtf',\n",
       " '001_WC1-2940-LML-DOC-00-0078_iss1_rev00.txt',\n",
       " '001_WC1-2940-LML-DOC-00-0078_iss1_rev00_from docx.txt',\n",
       " '003_overview.pdf',\n",
       " '00A45_72f41924012c4e95b0d52f50b2a9b94d_a8f1c3e0d61448ffa436dac6ca1c36b2.dataset',\n",
       " '02-02-2016-2.pdf',\n",
       " '03012015_caigui_The ground structure method.pptx',\n",
       " '04.06-selected (1).zip']"
      ]
     },
     "execution_count": 3,
     "metadata": {},
     "output_type": "execute_result"
    }
   ],
   "source": [
    "os.listdir('C:/Users/Lorenzo/Downloads')[:10]"
   ]
  },
  {
   "cell_type": "code",
   "execution_count": 51,
   "metadata": {},
   "outputs": [
    {
     "data": {
      "text/plain": [
       "800"
      ]
     },
     "execution_count": 51,
     "metadata": {},
     "output_type": "execute_result"
    }
   ],
   "source": [
    "subset = 400\n",
    "\n",
    "df_positive = pd.read_csv('C:/Users/Lorenzo/Downloads/VGG16_05006.csv', index_col=0)\n",
    "df_negative = pd.read_csv('C:/Users/Lorenzo/Downloads/VGG16_05658.csv', index_col=0)\n",
    "df_negative = df_negative.iloc[:len(df_positive)]\n",
    "\n",
    "df_positive = df_positive.iloc[:subset]\n",
    "df_negative = df_negative.iloc[:subset]\n",
    "\n",
    "df_positive['Target'] = 1\n",
    "df_negative['Target'] = 0\n",
    "\n",
    "if(len(df_positive) != len(df_negative)):\n",
    "    raise Exception()\n",
    "    \n",
    "df = pd.concat([df_positive, df_negative])\n",
    "len(df)"
   ]
  },
  {
   "cell_type": "code",
   "execution_count": 52,
   "metadata": {},
   "outputs": [
    {
     "data": {
      "text/html": [
       "<div>\n",
       "<style scoped>\n",
       "    .dataframe tbody tr th:only-of-type {\n",
       "        vertical-align: middle;\n",
       "    }\n",
       "\n",
       "    .dataframe tbody tr th {\n",
       "        vertical-align: top;\n",
       "    }\n",
       "\n",
       "    .dataframe thead th {\n",
       "        text-align: right;\n",
       "    }\n",
       "</style>\n",
       "<table border=\"1\" class=\"dataframe\">\n",
       "  <thead>\n",
       "    <tr style=\"text-align: right;\">\n",
       "      <th></th>\n",
       "      <th>0</th>\n",
       "      <th>1</th>\n",
       "      <th>2</th>\n",
       "      <th>3</th>\n",
       "      <th>4</th>\n",
       "      <th>5</th>\n",
       "      <th>6</th>\n",
       "      <th>7</th>\n",
       "      <th>8</th>\n",
       "      <th>9</th>\n",
       "      <th>...</th>\n",
       "      <th>503</th>\n",
       "      <th>504</th>\n",
       "      <th>505</th>\n",
       "      <th>506</th>\n",
       "      <th>507</th>\n",
       "      <th>508</th>\n",
       "      <th>509</th>\n",
       "      <th>510</th>\n",
       "      <th>511</th>\n",
       "      <th>Target</th>\n",
       "    </tr>\n",
       "  </thead>\n",
       "  <tbody>\n",
       "    <tr>\n",
       "      <th>0</th>\n",
       "      <td>26.100794</td>\n",
       "      <td>20.245167</td>\n",
       "      <td>19.934593</td>\n",
       "      <td>8.966306</td>\n",
       "      <td>0.520192</td>\n",
       "      <td>0.000000</td>\n",
       "      <td>18.298653</td>\n",
       "      <td>31.527435</td>\n",
       "      <td>53.699146</td>\n",
       "      <td>13.956929</td>\n",
       "      <td>...</td>\n",
       "      <td>20.877249</td>\n",
       "      <td>16.742640</td>\n",
       "      <td>19.429853</td>\n",
       "      <td>0.000000</td>\n",
       "      <td>19.590073</td>\n",
       "      <td>3.595904</td>\n",
       "      <td>7.531466</td>\n",
       "      <td>28.923544</td>\n",
       "      <td>11.218239</td>\n",
       "      <td>1</td>\n",
       "    </tr>\n",
       "    <tr>\n",
       "      <th>1</th>\n",
       "      <td>16.955046</td>\n",
       "      <td>0.000000</td>\n",
       "      <td>8.695172</td>\n",
       "      <td>15.246630</td>\n",
       "      <td>0.946223</td>\n",
       "      <td>0.000000</td>\n",
       "      <td>5.583616</td>\n",
       "      <td>26.391163</td>\n",
       "      <td>32.693290</td>\n",
       "      <td>18.645735</td>\n",
       "      <td>...</td>\n",
       "      <td>10.337791</td>\n",
       "      <td>28.005089</td>\n",
       "      <td>13.988813</td>\n",
       "      <td>0.000000</td>\n",
       "      <td>13.814245</td>\n",
       "      <td>2.007999</td>\n",
       "      <td>0.000000</td>\n",
       "      <td>14.498714</td>\n",
       "      <td>0.000000</td>\n",
       "      <td>1</td>\n",
       "    </tr>\n",
       "    <tr>\n",
       "      <th>2</th>\n",
       "      <td>15.366793</td>\n",
       "      <td>15.375629</td>\n",
       "      <td>22.566637</td>\n",
       "      <td>9.086631</td>\n",
       "      <td>8.967999</td>\n",
       "      <td>0.929143</td>\n",
       "      <td>8.994421</td>\n",
       "      <td>10.629556</td>\n",
       "      <td>14.519496</td>\n",
       "      <td>20.628174</td>\n",
       "      <td>...</td>\n",
       "      <td>3.891536</td>\n",
       "      <td>36.116947</td>\n",
       "      <td>30.983765</td>\n",
       "      <td>0.000000</td>\n",
       "      <td>31.688375</td>\n",
       "      <td>0.000000</td>\n",
       "      <td>8.614918</td>\n",
       "      <td>40.333740</td>\n",
       "      <td>0.687932</td>\n",
       "      <td>1</td>\n",
       "    </tr>\n",
       "    <tr>\n",
       "      <th>3</th>\n",
       "      <td>32.840855</td>\n",
       "      <td>23.118294</td>\n",
       "      <td>5.727360</td>\n",
       "      <td>10.679402</td>\n",
       "      <td>9.392455</td>\n",
       "      <td>0.000000</td>\n",
       "      <td>0.245977</td>\n",
       "      <td>27.909891</td>\n",
       "      <td>48.765907</td>\n",
       "      <td>22.981410</td>\n",
       "      <td>...</td>\n",
       "      <td>24.171293</td>\n",
       "      <td>36.237583</td>\n",
       "      <td>42.976910</td>\n",
       "      <td>0.278415</td>\n",
       "      <td>41.208240</td>\n",
       "      <td>0.000000</td>\n",
       "      <td>13.466224</td>\n",
       "      <td>28.233995</td>\n",
       "      <td>8.741349</td>\n",
       "      <td>1</td>\n",
       "    </tr>\n",
       "    <tr>\n",
       "      <th>4</th>\n",
       "      <td>6.526724</td>\n",
       "      <td>0.000000</td>\n",
       "      <td>9.810153</td>\n",
       "      <td>0.000000</td>\n",
       "      <td>0.000000</td>\n",
       "      <td>54.345028</td>\n",
       "      <td>4.497581</td>\n",
       "      <td>20.263136</td>\n",
       "      <td>27.236887</td>\n",
       "      <td>5.799153</td>\n",
       "      <td>...</td>\n",
       "      <td>3.012163</td>\n",
       "      <td>35.822132</td>\n",
       "      <td>25.237528</td>\n",
       "      <td>1.393787</td>\n",
       "      <td>19.999416</td>\n",
       "      <td>15.951019</td>\n",
       "      <td>2.914543</td>\n",
       "      <td>31.903246</td>\n",
       "      <td>0.000000</td>\n",
       "      <td>1</td>\n",
       "    </tr>\n",
       "  </tbody>\n",
       "</table>\n",
       "<p>5 rows × 513 columns</p>\n",
       "</div>"
      ],
      "text/plain": [
       "           0          1          2          3         4          5          6  \\\n",
       "0  26.100794  20.245167  19.934593   8.966306  0.520192   0.000000  18.298653   \n",
       "1  16.955046   0.000000   8.695172  15.246630  0.946223   0.000000   5.583616   \n",
       "2  15.366793  15.375629  22.566637   9.086631  8.967999   0.929143   8.994421   \n",
       "3  32.840855  23.118294   5.727360  10.679402  9.392455   0.000000   0.245977   \n",
       "4   6.526724   0.000000   9.810153   0.000000  0.000000  54.345028   4.497581   \n",
       "\n",
       "           7          8          9   ...          503        504        505  \\\n",
       "0  31.527435  53.699146  13.956929   ...    20.877249  16.742640  19.429853   \n",
       "1  26.391163  32.693290  18.645735   ...    10.337791  28.005089  13.988813   \n",
       "2  10.629556  14.519496  20.628174   ...     3.891536  36.116947  30.983765   \n",
       "3  27.909891  48.765907  22.981410   ...    24.171293  36.237583  42.976910   \n",
       "4  20.263136  27.236887   5.799153   ...     3.012163  35.822132  25.237528   \n",
       "\n",
       "        506        507        508        509        510        511  Target  \n",
       "0  0.000000  19.590073   3.595904   7.531466  28.923544  11.218239       1  \n",
       "1  0.000000  13.814245   2.007999   0.000000  14.498714   0.000000       1  \n",
       "2  0.000000  31.688375   0.000000   8.614918  40.333740   0.687932       1  \n",
       "3  0.278415  41.208240   0.000000  13.466224  28.233995   8.741349       1  \n",
       "4  1.393787  19.999416  15.951019   2.914543  31.903246   0.000000       1  \n",
       "\n",
       "[5 rows x 513 columns]"
      ]
     },
     "execution_count": 52,
     "metadata": {},
     "output_type": "execute_result"
    }
   ],
   "source": [
    "df.head()"
   ]
  },
  {
   "cell_type": "markdown",
   "metadata": {},
   "source": [
    "## Prepare feature dataset "
   ]
  },
  {
   "cell_type": "code",
   "execution_count": 53,
   "metadata": {},
   "outputs": [],
   "source": [
    "X = df.drop('Target', axis=1)\n",
    "Y = df['Target']\n",
    "X = StandardScaler().fit_transform(X)\n",
    "X_train, X_test, y_train, y_test = train_test_split(X, Y, test_size=.4, random_state=42)\n",
    "\n",
    "h = .02  # step size in the mesh\n",
    "x_min, x_max = X[:, 0].min() - .5, X[:, 0].max() + .5\n",
    "y_min, y_max = X[:, 1].min() - .5, X[:, 1].max() + .5\n",
    "xx, yy = np.meshgrid(np.arange(x_min, x_max, h), np.arange(y_min, y_max, h))"
   ]
  },
  {
   "cell_type": "markdown",
   "metadata": {},
   "source": [
    "## Classification"
   ]
  },
  {
   "cell_type": "code",
   "execution_count": 74,
   "metadata": {},
   "outputs": [],
   "source": [
    "def plot_confusion_matrix(cm, classes,\n",
    "                          normalize=False,\n",
    "                          title='Confusion matrix',\n",
    "                          cmap=plt.cm.Blues,\n",
    "                          index=0):\n",
    "    \"\"\"\n",
    "    This function prints and plots the confusion matrix.\n",
    "    Normalization can be applied by setting `normalize=True`.\n",
    "    \"\"\"\n",
    "    if normalize:\n",
    "        cm = cm.astype('float') / cm.sum(axis=1)[:, np.newaxis]\n",
    "\n",
    "    rows=3\n",
    "    ax = plt.subplot((len(classifiers) // rows) +1, rows, index+1)\n",
    "    plt.imshow(cm, interpolation='nearest', cmap=cmap)\n",
    "    plt.title(title)\n",
    "    plt.colorbar()\n",
    "    tick_marks = np.arange(len(classes))\n",
    "    plt.xticks(tick_marks, classes, rotation=45)\n",
    "    plt.yticks(tick_marks, classes)\n",
    "\n",
    "    fmt = '.2f' if normalize else 'd'\n",
    "    thresh = cm.max() / 2.\n",
    "    for i, j in itertools.product(range(cm.shape[0]), range(cm.shape[1])):\n",
    "        plt.text(j, i, format(cm[i, j], fmt),\n",
    "                 horizontalalignment=\"center\",\n",
    "                 color=\"white\" if cm[i, j] > thresh else \"black\")\n",
    "\n",
    "    plt.tight_layout()\n",
    "    plt.ylabel('True label')\n",
    "    plt.xlabel('Predicted label')"
   ]
  },
  {
   "cell_type": "code",
   "execution_count": 79,
   "metadata": {},
   "outputs": [
    {
     "data": {
      "image/png": "[encoded data removed]",
      "text/plain": [
       "<Figure size 936x936 with 20 Axes>"
      ]
     },
     "metadata": {
      "needs_background": "light"
     },
     "output_type": "display_data"
    }
   ],
   "source": [
    "from sklearn.metrics import confusion_matrix\n",
    "import itertools\n",
    "\n",
    "plt.figure(figsize=(13, 13))\n",
    "\n",
    "#X_train, X_test, y_train, y_test\n",
    "for i, (name, clf) in enumerate(classifiers.items()):\n",
    "    Y2_test = y_test\n",
    "    Y2_pred = clf.predict(X_test)\n",
    "    score = clf.score(X_test, y_test)\n",
    "             \n",
    "    # Compute confusion matrix\n",
    "    cnf_matrix = confusion_matrix(Y2_test, Y2_pred)\n",
    "    np.set_printoptions(precision=2)\n",
    "\n",
    "    # Plot normalized confusion matrix\n",
    "    \n",
    "    plot_confusion_matrix(cnf_matrix, \n",
    "                          classes=['normal', 'recession'], \n",
    "                          normalize=True,\n",
    "                          title='{0} - {1:.3f}'.format(name, score),\n",
    "                          index=i)\n",
    "\n",
    "plt.tight_layout()\n",
    "plt.show()"
   ]
  },
  {
   "cell_type": "markdown",
   "metadata": {},
   "source": [
    "## Regression"
   ]
  },
  {
   "cell_type": "code",
   "execution_count": null,
   "metadata": {},
   "outputs": [],
   "source": [
    "from sklearn.model_selection import train_test_split\n",
    "from sklearn.linear_model import SGDClassifier, Perceptron, PassiveAggressiveRegressor, LogisticRegression\n",
    "from sklearn.linear_model import Ridge, RidgeCV, ElasticNet, LassoCV, LassoLarsCV, LinearRegression\n",
    "from sklearn.cross_decomposition import PLSRegression\n",
    "from sklearn.svm import SVR\n",
    "from sklearn.neural_network import MLPRegressor\n",
    "from sklearn.neighbors import KNeighborsRegressor\n",
    "import xgboost as xgb\n",
    "\n",
    "heldout = [0.95, 0.90, 0.75, 0.50, 0.01]\n",
    "rounds = 20\n",
    "\n",
    "\n",
    "    \n",
    "class XgbWrapper(object):\n",
    "    def __init__(self, seed=0):\n",
    "        self.params = {\"objective\": \"reg:linear\", \"booster\":\"gblinear\"}\n",
    "        self.nrounds = 250\n",
    "\n",
    "    def fit(self, x_train, y_train):\n",
    "        dtrain = xgb.DMatrix(x_train, label=y_train)\n",
    "        self.gbdt = xgb.train(self.params, dtrain, self.nrounds)\n",
    "\n",
    "    def predict(self, x):\n",
    "        return self.gbdt.predict(xgb.DMatrix(x))\n",
    "\n",
    "classifiers = {\n",
    "    \"PLSRegression\": PLSRegression(n_components=2),\n",
    "    \"Ridge\": Ridge(),\n",
    "    \"RidgeCV\": RidgeCV(),\n",
    "    \"MLPRegressor\": MLPRegressor(max_iter=200,hidden_layer_sizes=(50)),\n",
    "    \"KNeighborsRegressor\": KNeighborsRegressor(n_neighbors=5 ),\n",
    "    \"LinearRegression\": LinearRegression(),\n",
    "    \"ElasticNet\": ElasticNet(),\n",
    "}"
   ]
  }
 ],
 "metadata": {
  "kernelspec": {
   "display_name": "Python [conda env:rsna]",
   "language": "python",
   "name": "conda-env-rsna-py"
  },
  "language_info": {
   "codemirror_mode": {
    "name": "ipython",
    "version": 3
   },
   "file_extension": ".py",
   "mimetype": "text/x-python",
   "name": "python",
   "nbconvert_exporter": "python",
   "pygments_lexer": "ipython3",
   "version": "3.6.6"
  }
 },
 "nbformat": 4,
 "nbformat_minor": 2
}

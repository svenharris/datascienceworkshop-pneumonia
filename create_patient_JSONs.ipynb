{
 "cells": [
  {
   "cell_type": "markdown",
   "metadata": {
    "_uuid": "dbf2a1d35d22eaa558ceb86f149f269563e3faac"
   },
   "source": [
    "# RSNA_Pneumonia - JSON boxes"
   ]
  },
  {
   "cell_type": "markdown",
   "metadata": {
    "_uuid": "195c2e2756e31e55dcdbf4f8ba85363827380569"
   },
   "source": [
    "* Prepare JSON training set with boxes and info of images"
   ]
  },
  {
   "cell_type": "markdown",
   "metadata": {
    "_uuid": "9c02a3a6c32131ff9cf11922be8444a9643109a5"
   },
   "source": [
    "## Imports"
   ]
  },
  {
   "cell_type": "markdown",
   "metadata": {},
   "source": [
    "https://pydicom.github.io/pydicom/dev/getting_started.html"
   ]
  },
  {
   "cell_type": "code",
   "execution_count": 2,
   "metadata": {
    "_cell_guid": "b1076dfc-b9ad-4769-8c92-a6c4dae69d19",
    "_uuid": "8f2839f25d086af736a60e9eeb907d3b93b6e0e5"
   },
   "outputs": [
    {
     "name": "stdout",
     "output_type": "stream",
     "text": [
      "['train_images', 'Features', 'test_images', 'stage_1_detailed_class_info.csv', 'dcm_data.csv', 'metadata.csv', 'stage_1_train_images', 'stage_1_sample_submission.csv', 'stage_1_train_labels.csv', 'stage_1_test_images']\n",
      "\n"
     ]
    }
   ],
   "source": [
    "# This Python 3 environment comes with many helpful analytics libraries installed\n",
    "# It is defined by the kaggle/python docker image: https://github.com/kaggle/docker-python\n",
    "# For example, here's several helpful packages to load in \n",
    "\n",
    "import numpy as np # linear algebra\n",
    "import pandas as pd # data processing, CSV file I/O (e.g. pd.read_csv)\n",
    "import uuid\n",
    "import pydicom\n",
    "import glob, pylab\n",
    "import pydicom\n",
    "import matplotlib.pyplot as plt\n",
    "%matplotlib inline\n",
    "import math\n",
    "import seaborn as sns\n",
    "import scipy\n",
    "# add alpha (transparency) to a colormap\n",
    "import matplotlib.colors \n",
    "import matplotlib.cm \n",
    "from matplotlib.colors import LinearSegmentedColormap\n",
    "import matplotlib.image as mpimg \n",
    "import numpy.random as random \n",
    "import seaborn as sns; sns.set()\n",
    "from matplotlib.pyplot import show \n",
    "\n",
    "# Input data files are available in the \"../input/\" directory.\n",
    "# For example, running this (by clicking run or pressing Shift+Enter) will list the files in the input directory\n",
    "\n",
    "import os\n",
    "from os.path import join\n",
    "from pathlib import Path\n",
    "print(os.listdir(\"data\"))\n",
    "print ()\n",
    "# Any results you write to the current directory are saved as output."
   ]
  },
  {
   "cell_type": "markdown",
   "metadata": {
    "_uuid": "2a564d66170dfd2c03cf48242c9616c4f9696bd4"
   },
   "source": [
    "## Constants & Functions"
   ]
  },
  {
   "cell_type": "markdown",
   "metadata": {
    "_uuid": "b0006aadf9beb51e68c3d2d9bb1e694bff5cb0ea"
   },
   "source": [
    "Constants"
   ]
  },
  {
   "cell_type": "code",
   "execution_count": 3,
   "metadata": {
    "_uuid": "270c45575d78b98595fe6559d5257e7faeaf508c"
   },
   "outputs": [
    {
     "name": "stdout",
     "output_type": "stream",
     "text": [
      "['93e0aaa9-1c46-4041-a101-6b800a0df0ac.dcm', '87effd15-e357-4a0d-9874-634f9e94bb20.dcm', 'e43f52c1-f08f-43dd-a315-7e52646bd424.dcm', 'dac8c857-7604-4b20-8e61-da616e78e75e.dcm', '811411e8-31da-4df5-9244-dd888c6af020.dcm', 'fcc70304-c7bf-47ce-85cc-0754706b1a91.dcm', '68966e26-b5c0-42f7-92de-a2ccfc112740.dcm', '40a9e10b-f872-4c72-a482-7187e2dca6ed.dcm', '88c25715-03f5-474e-9cee-5ad1f7beb4ce.dcm', '9980df74-1e49-4293-8a42-3182d9258de6.dcm']\n"
     ]
    }
   ],
   "source": [
    "PATH= 'data'#/rsna-pneumonia-detection-challenge/'\n",
    "path_pics =  join(str(Path.home()),'Documents/GitHub/datascienceworkshop-pneumonia/data/stage_1_train_images')#join(PATH,'stage_1_train_images')\n",
    "\n",
    "print(os.listdir(path_pics)[:10])"
   ]
  },
  {
   "cell_type": "raw",
   "metadata": {
    "_uuid": "92b1c5cd53fab6f5d5df25e6d53ebfd2190fc180"
   },
   "source": [
    "Specific Character Set              # CS: 'ISO_IR 100'\n",
    "SOP Class UID                       # UI: Secondary Capture Image Storage\n",
    "SOP Instance UID                    # UI: 1.2.276.0.7230010.3.1.4.8323329.4188.1517874306.437231\n",
    "Study Date                          # DA: '19010101'\n",
    "Study Time                          # TM: '000000.00'\n",
    "Accession Number                    # SH: ''\n",
    "Modality                            # CS: 'CR'\n",
    "Conversion Type                     # CS: 'WSD'\n",
    "Referring Physician's Name          # PN: ''\n",
    "Series Description                  # LO: 'view: PA'\n",
    "Patient's Name                      # PN: '00704310-78a8-4b38-8475-49f4573b2dbb'\n",
    "Patient ID                          # LO: '00704310-78a8-4b38-8475-49f4573b2dbb'\n",
    "Patient's Birth Date                # DA: ''\n",
    "Patient's Sex                       # CS: {'F', 'M'}\n",
    "Patient's Age                       # AS: '75'\n",
    "Body Part Examined                  # CS: 'CHEST'\n",
    "View Position                       # CS: {'AP', 'PA'}\n",
    "Study Instance UID                  # UI: 1.2.276.0.7230010.3.1.2.8323329.4188.1517874306.437230\n",
    "Series Instance UID                 # UI: 1.2.276.0.7230010.3.1.3.8323329.4188.1517874306.437229\n",
    "Study ID                            # SH: ''\n",
    "Series Number                       # IS: '1'\n",
    "Instance Number                     # IS: '1'\n",
    "Patient Orientation                 # CS: ''\n",
    "Samples per Pixel                   # US: 1\n",
    "Photometric Interpretation          # CS: 'MONOCHROME2'\n",
    "Rows                                # US: 1024\n",
    "Columns                             # US: 1024\n",
    "Pixel Spacing                       # DS: ['0.14300000000000002', '0.14300000000000002']\n",
    "Bits Allocated                      # US: 8\n",
    "Bits Stored                         # US: 8\n",
    "High Bit                            # US: 7\n",
    "Pixel Representation                # US: 0\n",
    "Lossy Image Compression             # CS: '01'\n",
    "Lossy Image Compression Method      # CS: 'ISO_10918_1'\n",
    "Pixel Data                          # OB: Array of 131414 bytes"
   ]
  },
  {
   "cell_type": "markdown",
   "metadata": {
    "_uuid": "8c2b3171842901a7b6f19a1a6150b818abfb627d"
   },
   "source": [
    "Functions"
   ]
  },
  {
   "cell_type": "code",
   "execution_count": 4,
   "metadata": {
    "_uuid": "b286181d7e864a000175f600ea74b4fbe4b8b2f5"
   },
   "outputs": [],
   "source": [
    "class Box():\n",
    "    \n",
    "    def __init__(self, y, x, h, w):\n",
    "        self.y, self.x, self.h, self.w = y, x, h, w\n",
    "        \n",
    "    def flip(self):\n",
    "        return Box(self.y, 1024 - self.x-self.w, self.h, self.w)\n",
    "\n",
    "def row2string(row):\n",
    "    \"\"\"\n",
    "    row box to string [y, x, height, width]\n",
    "    \"\"\"\n",
    "    if row is None:\n",
    "        return ''\n",
    "    elif math.isnan(row['y']):\n",
    "        return ''\n",
    "    else:\n",
    "        return '{0}_{1}_{2}_{3}'.format(row['y'], row['x'], row['height'], row['width'])\n",
    "    \n",
    "def string2boxes(s):\n",
    "    \"\"\"\n",
    "    strings to boxes [y, x, height, width]\n",
    "    \"\"\"\n",
    "    if s == None:\n",
    "        raise ArgumentException()\n",
    "    elif s == '' or s == '#':\n",
    "        return None\n",
    "    \n",
    "    boxes = []\n",
    "    ss = s.split('#')\n",
    "    for r in ss:\n",
    "        rr = r.split('_')\n",
    "        try:\n",
    "            box = Box(float(rr[0]), float(rr[1]), float(rr[2]), float(rr[3]))\n",
    "            boxes.append(box)\n",
    "        except:\n",
    "            continue\n",
    "        \n",
    "    return boxes\n",
    "\n",
    "def draw(data, auto_flip=True, write_info=False):\n",
    "    \"\"\"\n",
    "    Method to draw single patient with bounding box(es) if present \n",
    "    \"\"\"\n",
    "    name_pic = data['patientId'] + '.dcm'\n",
    "    fullpath_pic = join(path_pics, name_pic)\n",
    "\n",
    "    # --- Open DICOM file\n",
    "    d = pydicom.read_file(fullpath_pic,)\n",
    "    im = d.pixel_array\n",
    "\n",
    "    # --- Convert from single-channel grayscale to 3-channel RGB\n",
    "    im = np.stack([im] * 3, axis=2)\n",
    "\n",
    "    # --- Add boxes with random color if present\n",
    "    boxes = string2boxes(data['boxes'])\n",
    "    \n",
    "    # print data\n",
    "    if write_info:\n",
    "        print(d)\n",
    "\n",
    "    if(auto_flip and data['View Position'] == 'AP'):\n",
    "        im = np.flip(im, 1)\n",
    "        for i, box in enumerate(boxes):\n",
    "            boxes[i] = box.flip()\n",
    "    \n",
    "    if(boxes != None):\n",
    "        for box in boxes:\n",
    "            im = overlay_box(im=im, box=box, rgb=[255, 0, 0], stroke=6)\n",
    "\n",
    "    plt.figure(figsize=(10,10))\n",
    "    plt.imshow(im, cmap=pylab.cm.gist_gray)\n",
    "\n",
    "def overlay_box(im, box, rgb, stroke=1):\n",
    "    \"\"\"\n",
    "    Method to overlay single box on image\n",
    "    \"\"\"\n",
    "    \n",
    "    # --- Extract coordinates\n",
    "    y1, x1, height, width = int(box.y), int(box.x), int(box.h), int(box.w)\n",
    "    y2 = y1 + height\n",
    "    x2 = x1 + width\n",
    "\n",
    "    im[y1:y1 + stroke, x1:x2] = rgb\n",
    "    im[y2:y2 + stroke, x1:x2] = rgb\n",
    "    im[y1:y2, x1:x1 + stroke] = rgb\n",
    "    im[y1:y2, x2:x2 + stroke] = rgb\n",
    "\n",
    "    return im\n",
    "import scipy.misc\n",
    "\n",
    "def save_png(data):\n",
    "    \"\"\"\n",
    "    Method to save as png\n",
    "    \"\"\"\n",
    "    name_pic = data['patientId'] + '.dcm'\n",
    "    print(data['patientId'])\n",
    "    fullpath_pic = join(path_pics, name_pic)\n",
    "\n",
    "    # --- Open DICOM file\n",
    "    d = pydicom.read_file(fullpath_pic)\n",
    "    im = d.pixel_array\n",
    "\n",
    "    # --- Convert from single-channel grayscale to 3-channel RGB\n",
    "    im = np.stack([im] * 3, axis=2)\n",
    "\n",
    "    #scipy.misc.imsave(join(path_pics, data['patientId']), im)\n",
    "    scipy.misc.toimage(im, cmin=0.0, cmax=255).save(join(path_pics, data['patientId']))\n",
    "\n",
    "\n",
    "def PDFonImage(file_name, matrix):\n",
    "    wd = matplotlib.cm.winter._segmentdata # only has r,g,b  \n",
    "    wd['alpha'] =  ((0.0, 0.0, 0.3), \n",
    "                   (0.3, 0.3, 1.0),\n",
    "                   (1.0, 1.0, 1.0))\n",
    "\n",
    "    # modified colormap with changing alpha\n",
    "    al_winter = LinearSegmentedColormap('AlphaWinter', wd) \n",
    "\n",
    "\n",
    "    fullpath_pic = join(path_pics, file_name)\n",
    "    # get the map image as an array so we can plot it \n",
    "    dcm_data = pydicom.read_file(fullpath_pic,force=True)\n",
    "    im = dcm_data.pixel_array\n",
    "\n",
    "    # --- Convert from single-channel grayscale to 3-channel RGB\n",
    "    im = np.stack([im] * 3, axis=2)\n",
    "    \n",
    "    if dcm_data.ViewPosition == 'AP':\n",
    "        im = np.flip(im, 1)\n",
    "\n",
    "    # making and plotting heatmap \n",
    "    plt.figure(figsize=(13,13))\n",
    "    hmax = sns.heatmap(matrix,\n",
    "                #cmap = al_winter, # this worked but I didn't like it\n",
    "                #cmap = matplotlib.cm.winter,\n",
    "                alpha = 0.5, # whole heatmap is translucent\n",
    "                annot = True,\n",
    "                zorder = 2,\n",
    "                square=True,\n",
    "                fmt='.2f',\n",
    "                annot_kws={\"size\":8},\n",
    "                xticklabels=[int((i+1) / dw) for i in range(matrix.shape[0])], \n",
    "                yticklabels=[int((i+1) / dw) for i in range(matrix.shape[0])] \n",
    "                )\n",
    "\n",
    "    # heatmap uses pcolormesh instead of imshow, so we can't pass through \n",
    "    # extent as a kwarg, so we can't mmatch the heatmap to the map. Instead, \n",
    "    # match the map to the heatmap:\n",
    "\n",
    "    hmax.imshow(im,\n",
    "              aspect = hmax.get_aspect(),\n",
    "              extent = hmax.get_xlim() + hmax.get_ylim(),\n",
    "              zorder = 1) #put the map under the heatmap\n",
    "\n",
    "    show()"
   ]
  },
  {
   "cell_type": "code",
   "execution_count": 5,
   "metadata": {
    "_cell_guid": "79c7e3d0-c299-4dcb-8224-4455121ee9b0",
    "_uuid": "d629ff2d2480ee46fbb7e2d37f6b5fab8052498a"
   },
   "outputs": [],
   "source": [
    "train_label = pd.read_csv(join(PATH,'stage_1_train_labels.csv'))\n",
    "detailed_class = pd.read_csv(join(PATH,'stage_1_detailed_class_info.csv'))"
   ]
  },
  {
   "cell_type": "code",
   "execution_count": 6,
   "metadata": {
    "_uuid": "f96ae9f6bcf1ef1624e87f364b7708e5344d4f73",
    "scrolled": false
   },
   "outputs": [
    {
     "name": "stdout",
     "output_type": "stream",
     "text": [
      "<class 'pandas.core.frame.DataFrame'>\n",
      "RangeIndex: 28989 entries, 0 to 28988\n",
      "Data columns (total 6 columns):\n",
      "patientId    28989 non-null object\n",
      "x            8964 non-null float64\n",
      "y            8964 non-null float64\n",
      "width        8964 non-null float64\n",
      "height       8964 non-null float64\n",
      "Target       28989 non-null int64\n",
      "dtypes: float64(4), int64(1), object(1)\n",
      "memory usage: 1.3+ MB\n"
     ]
    }
   ],
   "source": [
    "train_label.info()"
   ]
  },
  {
   "cell_type": "raw",
   "metadata": {
    "_uuid": "75f391900189e54c31e08d725c34ab7223644093"
   },
   "source": [
    "train_label['patientId'] = train_label['patientId'].apply(lambda x: uuid.UUID(x))\n",
    "train_label = train_label.index.set_value([uuid.UUID(x) for x in train_label.index.values] )"
   ]
  },
  {
   "cell_type": "markdown",
   "metadata": {
    "_uuid": "33e215b1e573c7aa01d30dac994db8ef5f7fa874"
   },
   "source": [
    "Build complete DataFrame\n",
    "* Make a single string out of all the boxes relative to a single patient\n",
    "* Add pic's properties to df"
   ]
  },
  {
   "cell_type": "code",
   "execution_count": 7,
   "metadata": {
    "_uuid": "762b825fd4f74ced85027f0cf7cf76af2775e5e5"
   },
   "outputs": [],
   "source": [
    "df = pd.merge(train_label, detailed_class, on='patientId')\n",
    "df = pd.concat([df, pd.get_dummies(df['class'])], axis=1)"
   ]
  },
  {
   "cell_type": "markdown",
   "metadata": {
    "_uuid": "63c2feb2fdc1496caf7fdebb6dacff93a8ee3855"
   },
   "source": [
    "Execute the following code if generating the db"
   ]
  },
  {
   "cell_type": "raw",
   "metadata": {
    "_uuid": "f27e49c68ccf8fa156996fa32c00d17adcc8b2f0"
   },
   "source": [
    "boxes = []\n",
    "PatientAge = []\n",
    "PatientSex= []\n",
    "ViewPosition= []\n",
    "\n",
    "g = df.groupby(by='patientId')\n",
    "\n",
    "for name, group in g:\n",
    "    s = ''\n",
    "    for i, data in group.iterrows():\n",
    "        # box position\n",
    "        s = s + '#' + row2string(data)\n",
    "        \n",
    "        # read pic\n",
    "        name_pic = data['patientId'] + '.dcm'\n",
    "        dcm_data = pydicom.read_file(join(path_pics, name_pic))\n",
    "        \n",
    "        # append stuff\n",
    "        boxes.append(None)\n",
    "        PatientAge.append(dcm_data.PatientAge)\n",
    "        PatientSex.append(dcm_data.PatientSex)\n",
    "        ViewPosition.append(dcm_data.ViewPosition)\n",
    "    \n",
    "    boxes[-1] = s\n",
    "\n",
    "df_save = pd.DataFrame({\n",
    "    'patientId': df['patientId'],\n",
    "    'boxes': boxes, \n",
    "    'Age': PatientAge, \n",
    "    'Sex': PatientSex, \n",
    "    'View Position':ViewPosition})\n",
    "\n",
    "df_save['Age'] = df_save['Age'].astype(float)\n",
    "\n",
    "with open('../output/dcm_data.csv','w') as f:\n",
    "    df_save.to_csv(f)\n",
    "    \n",
    "# df['boxes'] = boxes\n",
    "# df['Age'] = PatientAge; df['Age'] = df['Age'].astype(float)\n",
    "# df['Sex'] = PatientSex\n",
    "# df['View Position'] = ViewPosition"
   ]
  },
  {
   "cell_type": "code",
   "execution_count": 8,
   "metadata": {
    "_uuid": "46555d9d8d262d4b39fe2ec117228cefc27d3751",
    "scrolled": true
   },
   "outputs": [
    {
     "data": {
      "text/html": [
       "<div>\n",
       "<style scoped>\n",
       "    .dataframe tbody tr th:only-of-type {\n",
       "        vertical-align: middle;\n",
       "    }\n",
       "\n",
       "    .dataframe tbody tr th {\n",
       "        vertical-align: top;\n",
       "    }\n",
       "\n",
       "    .dataframe thead th {\n",
       "        text-align: right;\n",
       "    }\n",
       "</style>\n",
       "<table border=\"1\" class=\"dataframe\">\n",
       "  <thead>\n",
       "    <tr style=\"text-align: right;\">\n",
       "      <th></th>\n",
       "      <th>Age</th>\n",
       "      <th>Sex</th>\n",
       "      <th>View Position</th>\n",
       "      <th>boxes</th>\n",
       "      <th>patientId</th>\n",
       "    </tr>\n",
       "  </thead>\n",
       "  <tbody>\n",
       "    <tr>\n",
       "      <th>0</th>\n",
       "      <td>51</td>\n",
       "      <td>F</td>\n",
       "      <td>PA</td>\n",
       "      <td>#</td>\n",
       "      <td>0004cfab-14fd-4e49-80ba-63a80b6bddd6</td>\n",
       "    </tr>\n",
       "    <tr>\n",
       "      <th>1</th>\n",
       "      <td>48</td>\n",
       "      <td>F</td>\n",
       "      <td>PA</td>\n",
       "      <td>#</td>\n",
       "      <td>00313ee0-9eaa-42f4-b0ab-c148ed3241cd</td>\n",
       "    </tr>\n",
       "    <tr>\n",
       "      <th>2</th>\n",
       "      <td>19</td>\n",
       "      <td>M</td>\n",
       "      <td>AP</td>\n",
       "      <td>#</td>\n",
       "      <td>00322d4d-1c29-4943-afc9-b6754be640eb</td>\n",
       "    </tr>\n",
       "    <tr>\n",
       "      <th>3</th>\n",
       "      <td>28</td>\n",
       "      <td>M</td>\n",
       "      <td>PA</td>\n",
       "      <td>#</td>\n",
       "      <td>003d8fa0-6bf1-40ed-b54c-ac657f8495c5</td>\n",
       "    </tr>\n",
       "    <tr>\n",
       "      <th>4</th>\n",
       "      <td>32</td>\n",
       "      <td>F</td>\n",
       "      <td>AP</td>\n",
       "      <td>NaN</td>\n",
       "      <td>00436515-870c-4b36-a041-de91049b9ab4</td>\n",
       "    </tr>\n",
       "  </tbody>\n",
       "</table>\n",
       "</div>"
      ],
      "text/plain": [
       "   Age Sex View Position boxes                             patientId\n",
       "0   51   F            PA     #  0004cfab-14fd-4e49-80ba-63a80b6bddd6\n",
       "1   48   F            PA     #  00313ee0-9eaa-42f4-b0ab-c148ed3241cd\n",
       "2   19   M            AP     #  00322d4d-1c29-4943-afc9-b6754be640eb\n",
       "3   28   M            PA     #  003d8fa0-6bf1-40ed-b54c-ac657f8495c5\n",
       "4   32   F            AP   NaN  00436515-870c-4b36-a041-de91049b9ab4"
      ]
     },
     "execution_count": 8,
     "metadata": {},
     "output_type": "execute_result"
    }
   ],
   "source": [
    "name_pic = pd.read_csv(join(PATH,'dcm_data.csv'), index_col=0)\n",
    "name_pic['Age'] = name_pic['Age'].astype(int)\n",
    "name_pic.head()"
   ]
  },
  {
   "cell_type": "code",
   "execution_count": 9,
   "metadata": {
    "_uuid": "7d803c48bf6f117cf019eee80beb3d46867454e2",
    "scrolled": true
   },
   "outputs": [
    {
     "data": {
      "text/html": [
       "<div>\n",
       "<style scoped>\n",
       "    .dataframe tbody tr th:only-of-type {\n",
       "        vertical-align: middle;\n",
       "    }\n",
       "\n",
       "    .dataframe tbody tr th {\n",
       "        vertical-align: top;\n",
       "    }\n",
       "\n",
       "    .dataframe thead th {\n",
       "        text-align: right;\n",
       "    }\n",
       "</style>\n",
       "<table border=\"1\" class=\"dataframe\">\n",
       "  <thead>\n",
       "    <tr style=\"text-align: right;\">\n",
       "      <th></th>\n",
       "      <th>patientId</th>\n",
       "      <th>Target</th>\n",
       "      <th>class</th>\n",
       "      <th>Lung Opacity</th>\n",
       "      <th>No Lung Opacity / Not Normal</th>\n",
       "      <th>Normal</th>\n",
       "      <th>Age</th>\n",
       "      <th>Sex</th>\n",
       "      <th>View Position</th>\n",
       "      <th>boxes</th>\n",
       "    </tr>\n",
       "  </thead>\n",
       "  <tbody>\n",
       "    <tr>\n",
       "      <th>0</th>\n",
       "      <td>0004cfab-14fd-4e49-80ba-63a80b6bddd6</td>\n",
       "      <td>0</td>\n",
       "      <td>No Lung Opacity / Not Normal</td>\n",
       "      <td>0</td>\n",
       "      <td>1</td>\n",
       "      <td>0</td>\n",
       "      <td>51</td>\n",
       "      <td>F</td>\n",
       "      <td>PA</td>\n",
       "      <td>#</td>\n",
       "    </tr>\n",
       "    <tr>\n",
       "      <th>1</th>\n",
       "      <td>00313ee0-9eaa-42f4-b0ab-c148ed3241cd</td>\n",
       "      <td>0</td>\n",
       "      <td>No Lung Opacity / Not Normal</td>\n",
       "      <td>0</td>\n",
       "      <td>1</td>\n",
       "      <td>0</td>\n",
       "      <td>48</td>\n",
       "      <td>F</td>\n",
       "      <td>PA</td>\n",
       "      <td>#</td>\n",
       "    </tr>\n",
       "    <tr>\n",
       "      <th>2</th>\n",
       "      <td>00322d4d-1c29-4943-afc9-b6754be640eb</td>\n",
       "      <td>0</td>\n",
       "      <td>No Lung Opacity / Not Normal</td>\n",
       "      <td>0</td>\n",
       "      <td>1</td>\n",
       "      <td>0</td>\n",
       "      <td>19</td>\n",
       "      <td>M</td>\n",
       "      <td>AP</td>\n",
       "      <td>#</td>\n",
       "    </tr>\n",
       "    <tr>\n",
       "      <th>3</th>\n",
       "      <td>003d8fa0-6bf1-40ed-b54c-ac657f8495c5</td>\n",
       "      <td>0</td>\n",
       "      <td>Normal</td>\n",
       "      <td>0</td>\n",
       "      <td>0</td>\n",
       "      <td>1</td>\n",
       "      <td>28</td>\n",
       "      <td>M</td>\n",
       "      <td>PA</td>\n",
       "      <td>#</td>\n",
       "    </tr>\n",
       "    <tr>\n",
       "      <th>7</th>\n",
       "      <td>00436515-870c-4b36-a041-de91049b9ab4</td>\n",
       "      <td>1</td>\n",
       "      <td>Lung Opacity</td>\n",
       "      <td>1</td>\n",
       "      <td>0</td>\n",
       "      <td>0</td>\n",
       "      <td>32</td>\n",
       "      <td>F</td>\n",
       "      <td>AP</td>\n",
       "      <td>#152.0_264.0_379.0_213.0#152.0_264.0_379.0_213...</td>\n",
       "    </tr>\n",
       "  </tbody>\n",
       "</table>\n",
       "</div>"
      ],
      "text/plain": [
       "                              patientId  Target                         class  \\\n",
       "0  0004cfab-14fd-4e49-80ba-63a80b6bddd6       0  No Lung Opacity / Not Normal   \n",
       "1  00313ee0-9eaa-42f4-b0ab-c148ed3241cd       0  No Lung Opacity / Not Normal   \n",
       "2  00322d4d-1c29-4943-afc9-b6754be640eb       0  No Lung Opacity / Not Normal   \n",
       "3  003d8fa0-6bf1-40ed-b54c-ac657f8495c5       0                        Normal   \n",
       "7  00436515-870c-4b36-a041-de91049b9ab4       1                  Lung Opacity   \n",
       "\n",
       "   Lung Opacity  No Lung Opacity / Not Normal  Normal  Age Sex View Position  \\\n",
       "0             0                             1       0   51   F            PA   \n",
       "1             0                             1       0   48   F            PA   \n",
       "2             0                             1       0   19   M            AP   \n",
       "3             0                             0       1   28   M            PA   \n",
       "7             1                             0       0   32   F            AP   \n",
       "\n",
       "                                               boxes  \n",
       "0                                                  #  \n",
       "1                                                  #  \n",
       "2                                                  #  \n",
       "3                                                  #  \n",
       "7  #152.0_264.0_379.0_213.0#152.0_264.0_379.0_213...  "
      ]
     },
     "execution_count": 9,
     "metadata": {},
     "output_type": "execute_result"
    }
   ],
   "source": [
    "df = pd.concat([df, name_pic.drop('patientId', axis=1)], axis=1)\n",
    "df = df.drop(['x', 'y', 'width', 'height'], axis=1)\n",
    "df = df.dropna(axis=0, subset=['boxes'])\n",
    "df.head()"
   ]
  },
  {
   "cell_type": "code",
   "execution_count": 10,
   "metadata": {},
   "outputs": [
    {
     "name": "stdout",
     "output_type": "stream",
     "text": [
      "CheckEnvironment.ipynb\t    data_preprocessing\tPneumonia_Training.ipynb\r\n",
      "config.py\t\t    kernel.ipynb\t__pycache__\r\n",
      "create_patient_JSONs.ipynb  kernel_LG.ipynb\tREADME.md\r\n",
      "data\t\t\t    models\t\treq.txt\r\n"
     ]
    }
   ],
   "source": [
    "!ls"
   ]
  },
  {
   "cell_type": "code",
   "execution_count": 11,
   "metadata": {},
   "outputs": [],
   "source": [
    "import hashlib\n",
    "import os\n",
    "import json\n",
    "\n",
    "def md5sum(pathname, blocksize=65536):\n",
    "    checksum = hashlib.md5()\n",
    "\n",
    "    with open(pathname, \"rb\") as stream:\n",
    "        for block in iter(lambda: stream.read(blocksize), b\"\"):\n",
    "            checksum.update(block)\n",
    "\n",
    "    return checksum.hexdigest()\n",
    "\n",
    "\n",
    "\n",
    "\n",
    "def createPatientJSON():\n",
    "    directory = r\"data/train_images/positive\"\n",
    "    \n",
    "    #return png's file names\n",
    "    def genImageName():\n",
    "        for image_name in os.listdir(directory):\n",
    "            yield image_name\n",
    "    \n",
    "    r, c = 1024, 1024\n",
    "    \n",
    "    dictionaries = []\n",
    "    \n",
    "    for i_name in genImageName():\n",
    "        \n",
    "        pathname=os.path.join(directory,i_name)\n",
    "        \n",
    "        if os.path.exists(pathname):\n",
    "            dictionary = {\n",
    "                \"image\": {\n",
    "                    \"checksum\": md5sum(pathname),\n",
    "                    \"pathname\": pathname,\n",
    "                    \"shape\": {\n",
    "                        \"r\": r,\n",
    "                        \"c\": c,\n",
    "                        \"channels\": 3\n",
    "                    }\n",
    "                },\n",
    "                \"objects\": []\n",
    "            }\n",
    "            \n",
    "            #catch the index of the patient\n",
    "            _filter = df['patientId'].str.find(i_name.split('.')[0])\n",
    "            rows = df[_filter >= 0].iloc[0]\n",
    "            \n",
    "            #catch string and extract boxes\n",
    "            s = rows['boxes']\n",
    "            boxes = string2boxes(s)            \n",
    "            \n",
    "            #append boxes to dict\n",
    "            for box in boxes:\n",
    "                minimum_r, maximum_r = box.x, box.x+box.w\n",
    "                minimum_c, maximum_c = box.y, box.y+box.h\n",
    "\n",
    "                object_dictionary = {\n",
    "                    \"bounding_box\": {\n",
    "                        \"minimum\": {\n",
    "                            \"r\": minimum_r - 1,\n",
    "                            \"c\": minimum_c - 1\n",
    "                        },\n",
    "                        \"maximum\": {\n",
    "                            \"r\": maximum_r - 1,\n",
    "                            \"c\": maximum_c - 1\n",
    "                        }\n",
    "                    },\n",
    "                    \"category\": \"sick\"\n",
    "                }\n",
    "\n",
    "                dictionary[\"objects\"].append(object_dictionary)\n",
    "            \n",
    "            dictionaries.append(dictionary)\n",
    "            #print(dictionaries)\n",
    "            \n",
    "            \n",
    "    filename = \"{}.json\".format('train_positive')\n",
    "\n",
    "    with open(os.path.join(r\"/home/claudio/Documents\",filename), \"w\") as stream:\n",
    "        json.dump(dictionaries, stream)\n"
   ]
  },
  {
   "cell_type": "code",
   "execution_count": 12,
   "metadata": {},
   "outputs": [],
   "source": [
    "createPatientJSON()"
   ]
  },
  {
   "cell_type": "code",
   "execution_count": 33,
   "metadata": {},
   "outputs": [
    {
     "name": "stdout",
     "output_type": "stream",
     "text": [
      "CheckEnvironment.ipynb\t    data_preprocessing\tPneumonia_Training.ipynb\r\n",
      "config.py\t\t    kernel.ipynb\t__pycache__\r\n",
      "create_patient_JSONs.ipynb  kernel_LG.ipynb\tREADME.md\r\n",
      "data\t\t\t    models\t\treq.txt\r\n"
     ]
    }
   ],
   "source": [
    "!ls"
   ]
  },
  {
   "cell_type": "code",
   "execution_count": null,
   "metadata": {},
   "outputs": [],
   "source": []
  }
 ],
 "metadata": {
  "kernelspec": {
   "display_name": "rsna",
   "language": "python",
   "name": "rsna"
  },
  "language_info": {
   "codemirror_mode": {
    "name": "ipython",
    "version": 3
   },
   "file_extension": ".py",
   "mimetype": "text/x-python",
   "name": "python",
   "nbconvert_exporter": "python",
   "pygments_lexer": "ipython3",
   "version": "3.6.5"
  }
 },
 "nbformat": 4,
 "nbformat_minor": 2
}

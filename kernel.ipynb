{
 "cells": [
  {
   "cell_type": "markdown",
   "metadata": {
    "_uuid": "dbf2a1d35d22eaa558ceb86f149f269563e3faac"
   },
   "source": [
    "# RSNA_Pneumonia_v001"
   ]
  },
  {
   "cell_type": "markdown",
   "metadata": {
    "_uuid": "195c2e2756e31e55dcdbf4f8ba85363827380569"
   },
   "source": [
    "* v001: Initial Commit"
   ]
  },
  {
   "cell_type": "markdown",
   "metadata": {
    "_uuid": "9c02a3a6c32131ff9cf11922be8444a9643109a5"
   },
   "source": [
    "## Imports"
   ]
  },
  {
   "cell_type": "markdown",
   "metadata": {},
   "source": [
    "https://pydicom.github.io/pydicom/dev/getting_started.html"
   ]
  },
  {
   "cell_type": "code",
   "execution_count": 1,
   "metadata": {
    "_cell_guid": "b1076dfc-b9ad-4769-8c92-a6c4dae69d19",
    "_uuid": "8f2839f25d086af736a60e9eeb907d3b93b6e0e5"
   },
   "outputs": [
    {
     "name": "stdout",
     "output_type": "stream",
     "text": [
      "['stage_1_detailed_class_info.csv', 'stage_1_train_labels.csv', 'dcm_data.csv', 'stage_1_sample_submission.csv']\n",
      "/Users/Bruce/Desktop/DataScienceWorkshop/datascienceworkshop-pneumonia\n"
     ]
    }
   ],
   "source": [
    "# This Python 3 environment comes with many helpful analytics libraries installed\n",
    "# It is defined by the kaggle/python docker image: https://github.com/kaggle/docker-python\n",
    "# For example, here's several helpful packages to load in \n",
    "\n",
    "import numpy as np # linear algebra\n",
    "import pandas as pd # data processing, CSV file I/O (e.g. pd.read_csv)\n",
    "import uuid\n",
    "import pydicom\n",
    "import glob, pylab\n",
    "import pydicom\n",
    "import matplotlib.pyplot as plt\n",
    "%matplotlib inline\n",
    "import pandas as pd\n",
    "import seaborn as sns\n",
    "import math\n",
    "\n",
    "# Input data files are available in the \"../input/\" directory.\n",
    "# For example, running this (by clicking run or pressing Shift+Enter) will list the files in the input directory\n",
    "\n",
    "import os\n",
    "from os.path import join\n",
    "print(os.listdir(\"../input\"))\n",
    "print(os.getcwd())\n",
    "\n",
    "# Any results you write to the current directory are saved as output."
   ]
  },
  {
   "cell_type": "markdown",
   "metadata": {
    "_uuid": "2a564d66170dfd2c03cf48242c9616c4f9696bd4"
   },
   "source": [
    "## Constants & Functions"
   ]
  },
  {
   "cell_type": "markdown",
   "metadata": {
    "_uuid": "b0006aadf9beb51e68c3d2d9bb1e694bff5cb0ea"
   },
   "source": [
    "Constants"
   ]
  },
  {
   "cell_type": "code",
   "execution_count": 2,
   "metadata": {
    "_uuid": "270c45575d78b98595fe6559d5257e7faeaf508c"
   },
   "outputs": [],
   "source": [
    "PATH= '../input'#/rsna-pneumonia-detection-challenge/'\n",
    "path_pics = r'/Users/Bruce/Desktop/DataScienceWorkshop/all/stage_1_train_images'#join(PATH,'stage_1_train_images')\n"
   ]
  },
  {
   "cell_type": "raw",
   "metadata": {
    "_uuid": "92b1c5cd53fab6f5d5df25e6d53ebfd2190fc180"
   },
   "source": [
    "Specific Character Set              # CS: 'ISO_IR 100'\n",
    "SOP Class UID                       # UI: Secondary Capture Image Storage\n",
    "SOP Instance UID                    # UI: 1.2.276.0.7230010.3.1.4.8323329.4188.1517874306.437231\n",
    "Study Date                          # DA: '19010101'\n",
    "Study Time                          # TM: '000000.00'\n",
    "Accession Number                    # SH: ''\n",
    "Modality                            # CS: 'CR'\n",
    "Conversion Type                     # CS: 'WSD'\n",
    "Referring Physician's Name          # PN: ''\n",
    "Series Description                  # LO: 'view: PA'\n",
    "Patient's Name                      # PN: '00704310-78a8-4b38-8475-49f4573b2dbb'\n",
    "Patient ID                          # LO: '00704310-78a8-4b38-8475-49f4573b2dbb'\n",
    "Patient's Birth Date                # DA: ''\n",
    "Patient's Sex                       # CS: {'F', 'M'}\n",
    "Patient's Age                       # AS: '75'\n",
    "Body Part Examined                  # CS: 'CHEST'\n",
    "View Position                       # CS: {'AP', 'PA'}\n",
    "Study Instance UID                  # UI: 1.2.276.0.7230010.3.1.2.8323329.4188.1517874306.437230\n",
    "Series Instance UID                 # UI: 1.2.276.0.7230010.3.1.3.8323329.4188.1517874306.437229\n",
    "Study ID                            # SH: ''\n",
    "Series Number                       # IS: '1'\n",
    "Instance Number                     # IS: '1'\n",
    "Patient Orientation                 # CS: ''\n",
    "Samples per Pixel                   # US: 1\n",
    "Photometric Interpretation          # CS: 'MONOCHROME2'\n",
    "Rows                                # US: 1024\n",
    "Columns                             # US: 1024\n",
    "Pixel Spacing                       # DS: ['0.14300000000000002', '0.14300000000000002']\n",
    "Bits Allocated                      # US: 8\n",
    "Bits Stored                         # US: 8\n",
    "High Bit                            # US: 7\n",
    "Pixel Representation                # US: 0\n",
    "Lossy Image Compression             # CS: '01'\n",
    "Lossy Image Compression Method      # CS: 'ISO_10918_1'\n",
    "Pixel Data                          # OB: Array of 131414 bytes"
   ]
  },
  {
   "cell_type": "markdown",
   "metadata": {
    "_uuid": "8c2b3171842901a7b6f19a1a6150b818abfb627d"
   },
   "source": [
    "Functions"
   ]
  },
  {
   "cell_type": "code",
   "execution_count": 3,
   "metadata": {
    "_uuid": "b286181d7e864a000175f600ea74b4fbe4b8b2f5"
   },
   "outputs": [],
   "source": [
    "class Box():\n",
    "    \n",
    "    def __init__(self, y, x, h, w):\n",
    "        self.y, self.x, self.h, self.w = y, x, h, w\n",
    "\n",
    "def row2string(row):\n",
    "    \"\"\"\n",
    "    row box to string [y, x, height, width]\n",
    "    \"\"\"\n",
    "    if row is None:\n",
    "        return ''\n",
    "    elif math.isnan(row['y']):\n",
    "        return ''\n",
    "    else:\n",
    "        return '{0}_{1}_{2}_{3}'.format(row['y'], row['x'], row['height'], row['width'])\n",
    "    \n",
    "def string2boxes(s):\n",
    "    \"\"\"\n",
    "    strings to boxes [y, x, height, width]\n",
    "    \"\"\"\n",
    "    if s == None:\n",
    "        raise ArgumentException()\n",
    "    elif s == '' or s == '#':\n",
    "        return None\n",
    "    \n",
    "    boxes = []\n",
    "    ss = s.split('#')\n",
    "    for r in ss:\n",
    "        rr = r.split('_')\n",
    "        try:\n",
    "            box = Box(float(rr[0]), float(rr[1]), float(rr[2]), float(rr[3]))\n",
    "            boxes.append(box)\n",
    "        except:\n",
    "            continue\n",
    "        \n",
    "    return boxes\n",
    "\n",
    "def draw(data):\n",
    "    \"\"\"\n",
    "    Method to draw single patient with bounding box(es) if present \n",
    "    \"\"\"\n",
    "    name_pic = data['patientId'] + '.dcm'\n",
    "    fullpath_pic = join(path_pics, name_pic)\n",
    "\n",
    "    # --- Open DICOM file\n",
    "    d = pydicom.read_file(fullpath_pic)\n",
    "    im = d.pixel_array\n",
    "\n",
    "    # --- Convert from single-channel grayscale to 3-channel RGB\n",
    "    im = np.stack([im] * 3, axis=2)\n",
    "\n",
    "    # --- Add boxes with random color if present\n",
    "    boxes = string2boxes(data['boxes'])\n",
    "    \n",
    "    # print data\n",
    "    print(d)\n",
    "    \n",
    "    if(boxes != None):\n",
    "        for box in boxes:\n",
    "#             rgb = np.floor(np.random.rand(3) * 256).astype('int')\n",
    "            im = overlay_box(im=im, box=box, rgb=[255, 0, 0], stroke=6)\n",
    "\n",
    "    plt.figure(figsize=(10,10))\n",
    "    plt.imshow(im, cmap=pylab.cm.gist_gray)\n",
    "\n",
    "def overlay_box(im, box, rgb, stroke=1):\n",
    "    \"\"\"\n",
    "    Method to overlay single box on image\n",
    "    \"\"\"\n",
    "    \n",
    "    # --- Extract coordinates\n",
    "    y1, x1, height, width = int(box.y), int(box.x), int(box.h), int(box.w)\n",
    "    y2 = y1 + height\n",
    "    x2 = x1 + width\n",
    "\n",
    "    im[y1:y1 + stroke, x1:x2] = rgb\n",
    "    im[y2:y2 + stroke, x1:x2] = rgb\n",
    "    im[y1:y2, x1:x1 + stroke] = rgb\n",
    "    im[y1:y2, x2:x2 + stroke] = rgb\n",
    "\n",
    "    return im"
   ]
  },
  {
   "cell_type": "code",
   "execution_count": 4,
   "metadata": {
    "_cell_guid": "79c7e3d0-c299-4dcb-8224-4455121ee9b0",
    "_uuid": "d629ff2d2480ee46fbb7e2d37f6b5fab8052498a"
   },
   "outputs": [],
   "source": [
    "train_label = pd.read_csv(join(PATH,'stage_1_train_labels.csv'))\n",
    "detailed_class = pd.read_csv(join(PATH,'stage_1_detailed_class_info.csv'))"
   ]
  },
  {
   "cell_type": "code",
   "execution_count": 5,
   "metadata": {
    "_uuid": "f96ae9f6bcf1ef1624e87f364b7708e5344d4f73"
   },
   "outputs": [
    {
     "name": "stdout",
     "output_type": "stream",
     "text": [
      "<class 'pandas.core.frame.DataFrame'>\n",
      "RangeIndex: 28989 entries, 0 to 28988\n",
      "Data columns (total 6 columns):\n",
      "patientId    28989 non-null object\n",
      "x            8964 non-null float64\n",
      "y            8964 non-null float64\n",
      "width        8964 non-null float64\n",
      "height       8964 non-null float64\n",
      "Target       28989 non-null int64\n",
      "dtypes: float64(4), int64(1), object(1)\n",
      "memory usage: 1.3+ MB\n"
     ]
    }
   ],
   "source": [
    "train_label.info()"
   ]
  },
  {
   "cell_type": "raw",
   "metadata": {
    "_uuid": "75f391900189e54c31e08d725c34ab7223644093"
   },
   "source": [
    "train_label['patientId'] = train_label['patientId'].apply(lambda x: uuid.UUID(x))\n",
    "train_label = train_label.index.set_value([uuid.UUID(x) for x in train_label.index.values] )"
   ]
  },
  {
   "cell_type": "markdown",
   "metadata": {
    "_uuid": "33e215b1e573c7aa01d30dac994db8ef5f7fa874"
   },
   "source": [
    "Build complete DataFrame\n",
    "* Make a single string out of all the boxes relative to a single patient\n",
    "* Add pic's properties to df"
   ]
  },
  {
   "cell_type": "code",
   "execution_count": 6,
   "metadata": {
    "_uuid": "762b825fd4f74ced85027f0cf7cf76af2775e5e5"
   },
   "outputs": [],
   "source": [
    "df = pd.merge(train_label, detailed_class, on='patientId')\n",
    "df = pd.concat([df, pd.get_dummies(df['class'])], axis=1)"
   ]
  },
  {
   "cell_type": "markdown",
   "metadata": {
    "_uuid": "63c2feb2fdc1496caf7fdebb6dacff93a8ee3855"
   },
   "source": [
    "Execute the following code if generating the db"
   ]
  },
  {
   "cell_type": "markdown",
   "metadata": {
    "_uuid": "f27e49c68ccf8fa156996fa32c00d17adcc8b2f0"
   },
   "source": [
    "boxes = []\n",
    "PatientAge = []\n",
    "PatientSex= []\n",
    "PatientDate= []\n",
    "PatientTime= []\n",
    "ViewPosition= []\n",
    "\n",
    "g = df.groupby(by='patientId')\n",
    "\n",
    "for name, group in g:\n",
    "    s = ''\n",
    "    for i, data in group.iterrows():\n",
    "        # box position\n",
    "        s = s + '#' + row2string(data)\n",
    "        \n",
    "        # read pic\n",
    "        name_pic = data['patientId'] + '.dcm'\n",
    "        dcm_data = pydicom.read_file(join(path_pics, name_pic))\n",
    "        \n",
    "        # append stuff\n",
    "        boxes.append(None)\n",
    "        PatientAge.append(dcm_data.PatientAge)\n",
    "        PatientSex.append(dcm_data.PatientSex)\n",
    "        PatientDate.append(dcm_data.StudyDate)\n",
    "        PatientTime.append(dcm_data.StudyTime)\n",
    "        ViewPosition.append(dcm_data.ViewPosition)\n",
    "    \n",
    "    boxes[-1] = s\n",
    "\n",
    "df_save = pd.DataFrame({\n",
    "    'patientId': df['patientId'],\n",
    "    'boxes': boxes, \n",
    "    'Age': PatientAge, \n",
    "    'Sex': PatientSex, \n",
    "    'Date': PatientDate, \n",
    "    'Time': PatientTime, \n",
    "    'View Position':ViewPosition})\n",
    "\n",
    "df_save['Age'] = df_save['Age'].astype(float)\n",
    "\n",
    "# with open('../output/dcm_data.csv','w') as f:\n",
    "#     df_save.to_csv(f)\n",
    "    \n",
    "df_save.to_csv(join(PATH,'dcm_data.csv'))\n",
    "    \n",
    "# df['boxes'] = boxes\n",
    "# df['Age'] = PatientAge; df['Age'] = df['Age'].astype(float)\n",
    "# df['Sex'] = PatientSex\n",
    "# df['View Position'] = ViewPosition"
   ]
  },
  {
   "cell_type": "code",
   "execution_count": 10,
   "metadata": {
    "_uuid": "46555d9d8d262d4b39fe2ec117228cefc27d3751",
    "scrolled": true
   },
   "outputs": [
    {
     "data": {
      "text/plain": [
       "['19010101',\n",
       " '19010101',\n",
       " '19010101',\n",
       " '19010101',\n",
       " '19010101',\n",
       " '19010101',\n",
       " '19010101',\n",
       " '19010101',\n",
       " '19010101',\n",
       " '19010101']"
      ]
     },
     "execution_count": 10,
     "metadata": {},
     "output_type": "execute_result"
    }
   ],
   "source": [
    "name_pic = pd.read_csv(join(PATH,'dcm_data.csv'), index_col=0)\n",
    "name_pic['Age'] = name_pic['Age'].astype(int)\n",
    "name_pic.head()\n",
    "PatientDate[:10]"
   ]
  },
  {
   "cell_type": "code",
   "execution_count": 11,
   "metadata": {
    "_uuid": "7d803c48bf6f117cf019eee80beb3d46867454e2"
   },
   "outputs": [
    {
     "data": {
      "text/html": [
       "<div>\n",
       "<style scoped>\n",
       "    .dataframe tbody tr th:only-of-type {\n",
       "        vertical-align: middle;\n",
       "    }\n",
       "\n",
       "    .dataframe tbody tr th {\n",
       "        vertical-align: top;\n",
       "    }\n",
       "\n",
       "    .dataframe thead th {\n",
       "        text-align: right;\n",
       "    }\n",
       "</style>\n",
       "<table border=\"1\" class=\"dataframe\">\n",
       "  <thead>\n",
       "    <tr style=\"text-align: right;\">\n",
       "      <th></th>\n",
       "      <th>patientId</th>\n",
       "      <th>Target</th>\n",
       "      <th>class</th>\n",
       "      <th>Lung Opacity</th>\n",
       "      <th>No Lung Opacity / Not Normal</th>\n",
       "      <th>Normal</th>\n",
       "      <th>boxes</th>\n",
       "      <th>Age</th>\n",
       "      <th>Sex</th>\n",
       "      <th>Date</th>\n",
       "      <th>Time</th>\n",
       "      <th>View Position</th>\n",
       "    </tr>\n",
       "  </thead>\n",
       "  <tbody>\n",
       "    <tr>\n",
       "      <th>0</th>\n",
       "      <td>0004cfab-14fd-4e49-80ba-63a80b6bddd6</td>\n",
       "      <td>0</td>\n",
       "      <td>No Lung Opacity / Not Normal</td>\n",
       "      <td>0</td>\n",
       "      <td>1</td>\n",
       "      <td>0</td>\n",
       "      <td>#</td>\n",
       "      <td>51</td>\n",
       "      <td>F</td>\n",
       "      <td>19010101</td>\n",
       "      <td>0.0</td>\n",
       "      <td>PA</td>\n",
       "    </tr>\n",
       "    <tr>\n",
       "      <th>1</th>\n",
       "      <td>00313ee0-9eaa-42f4-b0ab-c148ed3241cd</td>\n",
       "      <td>0</td>\n",
       "      <td>No Lung Opacity / Not Normal</td>\n",
       "      <td>0</td>\n",
       "      <td>1</td>\n",
       "      <td>0</td>\n",
       "      <td>#</td>\n",
       "      <td>48</td>\n",
       "      <td>F</td>\n",
       "      <td>19010101</td>\n",
       "      <td>0.0</td>\n",
       "      <td>PA</td>\n",
       "    </tr>\n",
       "    <tr>\n",
       "      <th>2</th>\n",
       "      <td>00322d4d-1c29-4943-afc9-b6754be640eb</td>\n",
       "      <td>0</td>\n",
       "      <td>No Lung Opacity / Not Normal</td>\n",
       "      <td>0</td>\n",
       "      <td>1</td>\n",
       "      <td>0</td>\n",
       "      <td>#</td>\n",
       "      <td>19</td>\n",
       "      <td>M</td>\n",
       "      <td>19010101</td>\n",
       "      <td>0.0</td>\n",
       "      <td>AP</td>\n",
       "    </tr>\n",
       "    <tr>\n",
       "      <th>3</th>\n",
       "      <td>003d8fa0-6bf1-40ed-b54c-ac657f8495c5</td>\n",
       "      <td>0</td>\n",
       "      <td>Normal</td>\n",
       "      <td>0</td>\n",
       "      <td>0</td>\n",
       "      <td>1</td>\n",
       "      <td>#</td>\n",
       "      <td>28</td>\n",
       "      <td>M</td>\n",
       "      <td>19010101</td>\n",
       "      <td>0.0</td>\n",
       "      <td>PA</td>\n",
       "    </tr>\n",
       "    <tr>\n",
       "      <th>7</th>\n",
       "      <td>00436515-870c-4b36-a041-de91049b9ab4</td>\n",
       "      <td>1</td>\n",
       "      <td>Lung Opacity</td>\n",
       "      <td>1</td>\n",
       "      <td>0</td>\n",
       "      <td>0</td>\n",
       "      <td>#152.0_264.0_379.0_213.0#152.0_264.0_379.0_213...</td>\n",
       "      <td>32</td>\n",
       "      <td>F</td>\n",
       "      <td>19010101</td>\n",
       "      <td>0.0</td>\n",
       "      <td>AP</td>\n",
       "    </tr>\n",
       "  </tbody>\n",
       "</table>\n",
       "</div>"
      ],
      "text/plain": [
       "                              patientId  Target                         class  \\\n",
       "0  0004cfab-14fd-4e49-80ba-63a80b6bddd6       0  No Lung Opacity / Not Normal   \n",
       "1  00313ee0-9eaa-42f4-b0ab-c148ed3241cd       0  No Lung Opacity / Not Normal   \n",
       "2  00322d4d-1c29-4943-afc9-b6754be640eb       0  No Lung Opacity / Not Normal   \n",
       "3  003d8fa0-6bf1-40ed-b54c-ac657f8495c5       0                        Normal   \n",
       "7  00436515-870c-4b36-a041-de91049b9ab4       1                  Lung Opacity   \n",
       "\n",
       "   Lung Opacity  No Lung Opacity / Not Normal  Normal  \\\n",
       "0             0                             1       0   \n",
       "1             0                             1       0   \n",
       "2             0                             1       0   \n",
       "3             0                             0       1   \n",
       "7             1                             0       0   \n",
       "\n",
       "                                               boxes  Age Sex      Date  Time  \\\n",
       "0                                                  #   51   F  19010101   0.0   \n",
       "1                                                  #   48   F  19010101   0.0   \n",
       "2                                                  #   19   M  19010101   0.0   \n",
       "3                                                  #   28   M  19010101   0.0   \n",
       "7  #152.0_264.0_379.0_213.0#152.0_264.0_379.0_213...   32   F  19010101   0.0   \n",
       "\n",
       "  View Position  \n",
       "0            PA  \n",
       "1            PA  \n",
       "2            AP  \n",
       "3            PA  \n",
       "7            AP  "
      ]
     },
     "execution_count": 11,
     "metadata": {},
     "output_type": "execute_result"
    }
   ],
   "source": [
    "df = pd.concat([df, name_pic.drop('patientId', axis=1)], axis=1)\n",
    "df = df.drop(['x', 'y', 'width', 'height'], axis=1)\n",
    "df = df.dropna(axis=0, subset=['boxes'])\n",
    "df.head()"
   ]
  },
  {
   "cell_type": "code",
   "execution_count": 12,
   "metadata": {
    "_uuid": "8ff991672c20ec8cb17a6a493fa144748c7524f9"
   },
   "outputs": [
    {
     "data": {
      "text/plain": [
       "True"
      ]
     },
     "execution_count": 12,
     "metadata": {},
     "output_type": "execute_result"
    }
   ],
   "source": [
    "len(df['patientId']) == len( set(df['patientId']))"
   ]
  },
  {
   "cell_type": "code",
   "execution_count": 13,
   "metadata": {
    "_uuid": "b73b88c25cf41d0fd7349d347b18fe0d6f2b008f",
    "scrolled": false
   },
   "outputs": [
    {
     "ename": "NotImplementedError",
     "evalue": "Unable to decode pixel data with a transfer syntax UID of '1.2.840.10008.1.2.4.50' (JPEG Baseline (Process 1)) as there are no suitable pixel data handlers available. Please see the list of supported Transfer Syntaxes in the pydicom documentation for information on which additional packages might be required",
     "output_type": "error",
     "traceback": [
      "\u001b[0;31m---------------------------------------------------------------------------\u001b[0m",
      "\u001b[0;31mNotImplementedError\u001b[0m                       Traceback (most recent call last)",
      "\u001b[0;32m<ipython-input-13-f923a8822ebf>\u001b[0m in \u001b[0;36m<module>\u001b[0;34m()\u001b[0m\n\u001b[0;32m----> 1\u001b[0;31m \u001b[0mdraw\u001b[0m\u001b[0;34m(\u001b[0m\u001b[0mdf\u001b[0m\u001b[0;34m.\u001b[0m\u001b[0miloc\u001b[0m\u001b[0;34m[\u001b[0m\u001b[0;36m13\u001b[0m\u001b[0;34m]\u001b[0m\u001b[0;34m)\u001b[0m\u001b[0;34m\u001b[0m\u001b[0m\n\u001b[0m",
      "\u001b[0;32m<ipython-input-3-c87907b1604b>\u001b[0m in \u001b[0;36mdraw\u001b[0;34m(data)\u001b[0m\n\u001b[1;32m     45\u001b[0m     \u001b[0;31m# --- Open DICOM file\u001b[0m\u001b[0;34m\u001b[0m\u001b[0;34m\u001b[0m\u001b[0m\n\u001b[1;32m     46\u001b[0m     \u001b[0md\u001b[0m \u001b[0;34m=\u001b[0m \u001b[0mpydicom\u001b[0m\u001b[0;34m.\u001b[0m\u001b[0mread_file\u001b[0m\u001b[0;34m(\u001b[0m\u001b[0mfullpath_pic\u001b[0m\u001b[0;34m)\u001b[0m\u001b[0;34m\u001b[0m\u001b[0m\n\u001b[0;32m---> 47\u001b[0;31m     \u001b[0mim\u001b[0m \u001b[0;34m=\u001b[0m \u001b[0md\u001b[0m\u001b[0;34m.\u001b[0m\u001b[0mpixel_array\u001b[0m\u001b[0;34m\u001b[0m\u001b[0m\n\u001b[0m\u001b[1;32m     48\u001b[0m \u001b[0;34m\u001b[0m\u001b[0m\n\u001b[1;32m     49\u001b[0m     \u001b[0;31m# --- Convert from single-channel grayscale to 3-channel RGB\u001b[0m\u001b[0;34m\u001b[0m\u001b[0;34m\u001b[0m\u001b[0m\n",
      "\u001b[0;32m~/Desktop/DataScienceWorkshop/pydicom/pydicom/dataset.py\u001b[0m in \u001b[0;36mpixel_array\u001b[0;34m(self)\u001b[0m\n\u001b[1;32m    866\u001b[0m             \u001b[0mThe\u001b[0m \u001b[0mPixel\u001b[0m \u001b[0mData\u001b[0m \u001b[0;34m(\u001b[0m\u001b[0;36m7\u001b[0m\u001b[0mFE0\u001b[0m\u001b[0;34m,\u001b[0m\u001b[0;36m00\u001b[0m\u001b[0;36m10\u001b[0m\u001b[0;34m)\u001b[0m \u001b[0;32mas\u001b[0m \u001b[0ma\u001b[0m \u001b[0mNumPy\u001b[0m \u001b[0mndarray\u001b[0m\u001b[0;34m.\u001b[0m\u001b[0;34m\u001b[0m\u001b[0m\n\u001b[1;32m    867\u001b[0m         \"\"\"\n\u001b[0;32m--> 868\u001b[0;31m         \u001b[0mself\u001b[0m\u001b[0;34m.\u001b[0m\u001b[0mconvert_pixel_data\u001b[0m\u001b[0;34m(\u001b[0m\u001b[0;34m)\u001b[0m\u001b[0;34m\u001b[0m\u001b[0m\n\u001b[0m\u001b[1;32m    869\u001b[0m         \u001b[0;32mreturn\u001b[0m \u001b[0mself\u001b[0m\u001b[0;34m.\u001b[0m\u001b[0m_pixel_array\u001b[0m\u001b[0;34m\u001b[0m\u001b[0m\n\u001b[1;32m    870\u001b[0m \u001b[0;34m\u001b[0m\u001b[0m\n",
      "\u001b[0;32m~/Desktop/DataScienceWorkshop/pydicom/pydicom/dataset.py\u001b[0m in \u001b[0;36mconvert_pixel_data\u001b[0;34m(self)\u001b[0m\n\u001b[1;32m    773\u001b[0m                 \u001b[0;34m\"which additional packages might be required\"\u001b[0m\u001b[0;34m\u001b[0m\u001b[0m\n\u001b[1;32m    774\u001b[0m                 .format(self.file_meta.TransferSyntaxUID,\n\u001b[0;32m--> 775\u001b[0;31m                         self.file_meta.TransferSyntaxUID.name)\n\u001b[0m\u001b[1;32m    776\u001b[0m             )\n\u001b[1;32m    777\u001b[0m \u001b[0;34m\u001b[0m\u001b[0m\n",
      "\u001b[0;31mNotImplementedError\u001b[0m: Unable to decode pixel data with a transfer syntax UID of '1.2.840.10008.1.2.4.50' (JPEG Baseline (Process 1)) as there are no suitable pixel data handlers available. Please see the list of supported Transfer Syntaxes in the pydicom documentation for information on which additional packages might be required"
     ]
    }
   ],
   "source": [
    "draw(df.iloc[13])"
   ]
  },
  {
   "cell_type": "markdown",
   "metadata": {
    "_uuid": "5f1d9c02f41a25be5662340bb54a22d46c14a2fd"
   },
   "source": [
    "## Analysis"
   ]
  },
  {
   "cell_type": "code",
   "execution_count": 14,
   "metadata": {
    "_uuid": "f8d99e9208cfee0d812c23a81e303d50d7ec4fe0"
   },
   "outputs": [
    {
     "data": {
      "image/png": "[encoded data removed]",
      "text/plain": [
       "<Figure size 1152x360 with 3 Axes>"
      ]
     },
     "metadata": {
      "needs_background": "light"
     },
     "output_type": "display_data"
    }
   ],
   "source": [
    "bins = range(0,100,5)\n",
    "plt.figure(figsize=(16,5))\n",
    "\n",
    "#plt.figure(1)\n",
    "plt.subplot(1,3,1)\n",
    "age_1 = df[['Age', 'Target']][df['Target'] ==1]\n",
    "age_0 = df[['Age', 'Target']][df['Target'] ==0]\n",
    "\n",
    "a, _, _ = plt.hist(age_0.sort_values('Age')['Age'], bins, alpha=0.5, label='0')\n",
    "b, _, _ = plt.hist(age_1.sort_values('Age')['Age'], bins, alpha=0.5, label='1')\n",
    "plt.plot(range(0,100,5),[0]+[a+b for a,b in zip(*[a,b])], label='total')\n",
    "plt.legend()\n",
    "\n",
    "\n",
    "plt.subplot(1,3,2)\n",
    "lung_opac = df[['Age', 'Target']][df['Lung Opacity'] ==1]\n",
    "lung_boh = df[['Age', 'Target']][df['No Lung Opacity / Not Normal'] ==1] \n",
    "lung_norm = df[['Age', 'Target']][df['Normal'] ==1]\n",
    "\n",
    "a, _, _ = plt.hist(lung_boh.sort_values('Age')['Age'], bins, alpha=0.5, label='No Lung Opacity / Not Normal')\n",
    "b, _, _ = plt.hist(lung_norm.sort_values('Age')['Age'], bins, alpha=0.5, label='Normal')\n",
    "c, _, _ = plt.hist(lung_opac.sort_values('Age')['Age'], bins, alpha=0.5, label='Lung Opacity')\n",
    "plt.plot(range(0,100,5),[0]+[a+b+c for a,b,c in zip(*[a,b,c])], label='total')\n",
    "plt.legend()\n",
    "\n",
    "\n",
    "plt.subplot(1,3,3)\n",
    "g = pd.cut(df.sort_values('Age')['Age'], bins)\n",
    "g = df.groupby(g, sort=False)\n",
    "g_t = g['Target'].aggregate('sum') / len(df)\n",
    "g_opac = g['Lung Opacity'].aggregate('sum') / len(df)\n",
    "g_boh = g['No Lung Opacity / Not Normal'].aggregate('sum') / len(df)\n",
    "g_norm = g['Normal'].aggregate('sum') / len(df)\n",
    "\n",
    "plt.plot([x.mid for x in g_t.index], g_t, label='1 [%]')\n",
    "plt.plot([x.mid for x in g_t.index], g_opac, label='Lung Opacity [%]')\n",
    "plt.plot([x.mid for x in g_t.index], g_boh , label='No Lung Opacity / Not Normal [%]')\n",
    "plt.plot([x.mid for x in g_t.index], g_norm, label='Normal [%]')\n",
    "#plt.plot([(a,b) for a,b in zip(*[g_norm.values, g_boh.values])])\n",
    "\n",
    "plt.legend()\n",
    "plt.show()"
   ]
  },
  {
   "cell_type": "markdown",
   "metadata": {},
   "source": [
    "## Correlations"
   ]
  },
  {
   "cell_type": "code",
   "execution_count": 19,
   "metadata": {},
   "outputs": [
    {
     "name": "stdout",
     "output_type": "stream",
     "text": [
      "Index(['patientId', 'Target', 'class', 'Lung Opacity',\n",
      "       'No Lung Opacity / Not Normal', 'Normal', 'boxes', 'Age', 'Sex', 'Date',\n",
      "       'Time', 'View Position'],\n",
      "      dtype='object')\n",
      "\n"
     ]
    },
    {
     "data": {
      "image/png": "[encoded data removed]",
      "text/plain": [
       "<Figure size 1440x504 with 1 Axes>"
      ]
     },
     "metadata": {
      "needs_background": "light"
     },
     "output_type": "display_data"
    },
    {
     "data": {
      "image/png": "[encoded data removed]",
      "text/plain": [
       "<Figure size 1440x504 with 1 Axes>"
      ]
     },
     "metadata": {
      "needs_background": "light"
     },
     "output_type": "display_data"
    }
   ],
   "source": [
    "print(df.columns)\n",
    "pd.DataFrame(df.groupby(\"Age\").Target.sum()).reset_index().plot(kind=\"bar\",x =\"Age\", y=\"Target\", figsize=(20,7), title=\"Age vs. Target\")\n",
    "\n",
    "pd.DataFrame(df.groupby(\"Sex\").Target.sum()).reset_index().plot(kind=\"bar\",x =\"Sex\", y=\"Target\", figsize=(20,7), title=\"Sex vs Target\")\n",
    "print()"
   ]
  },
  {
   "cell_type": "markdown",
   "metadata": {},
   "source": [
    "## Correlations of the Classes"
   ]
  },
  {
   "cell_type": "code",
   "execution_count": 16,
   "metadata": {},
   "outputs": [
    {
     "name": "stdout",
     "output_type": "stream",
     "text": [
      "\n"
     ]
    },
    {
     "data": {
      "image/png": "[encoded data removed]",
      "text/plain": [
       "<Figure size 432x288 with 2 Axes>"
      ]
     },
     "metadata": {
      "needs_background": "light"
     },
     "output_type": "display_data"
    }
   ],
   "source": [
    "# calculate the correlation matrix\n",
    "corr = df[['Target', 'Lung Opacity',\n",
    "       'No Lung Opacity / Not Normal', 'Normal']].corr().round(decimals=2)\n",
    "\n",
    "# plot the heatmap\n",
    "sns.heatmap(corr, \n",
    "        xticklabels=corr.columns,\n",
    "        yticklabels=corr.columns,\n",
    "                annot=True)\n",
    "print()"
   ]
  },
  {
   "cell_type": "code",
   "execution_count": null,
   "metadata": {},
   "outputs": [],
   "source": [
    "# How many \n",
    "sexes = pd.DataFrame(df.groupby(\"patientId\")[\"View Position\"].nunique()).reset_index().sort_values(by=\"View Position\")\n",
    "sexes = pd.DataFrame(sexes.groupby(\"View Position\").patientId.nunique()).reset_index().sort_values(by='View Position')\n",
    "\n",
    "sexes.head()"
   ]
  },
  {
   "cell_type": "code",
   "execution_count": null,
   "metadata": {},
   "outputs": [],
   "source": []
  }
 ],
 "metadata": {
  "kernelspec": {
   "display_name": "Python 3",
   "language": "python",
   "name": "python3"
  },
  "language_info": {
   "codemirror_mode": {
    "name": "ipython",
    "version": 3
   },
   "file_extension": ".py",
   "mimetype": "text/x-python",
   "name": "python",
   "nbconvert_exporter": "python",
   "pygments_lexer": "ipython3",
   "version": "3.6.5"
  }
 },
 "nbformat": 4,
 "nbformat_minor": 1
}

{
 "cells": [
  {
   "cell_type": "markdown",
   "metadata": {},
   "source": [
    "Check Tensorflow installation"
   ]
  },
  {
   "cell_type": "code",
   "execution_count": 1,
   "metadata": {},
   "outputs": [
    {
     "name": "stdout",
     "output_type": "stream",
     "text": [
      "b'Hello, TensorFlow!'\n"
     ]
    }
   ],
   "source": [
    "import tensorflow as tf\n",
    "hello = tf.constant('Hello, TensorFlow!')\n",
    "sess = tf.Session()\n",
    "print(sess.run(hello))"
   ]
  },
  {
   "cell_type": "code",
   "execution_count": 2,
   "metadata": {},
   "outputs": [
    {
     "name": "stdout",
     "output_type": "stream",
     "text": [
      "a: 2 b: 3\n",
      "Addition with constants: 5\n",
      "Multiplication with constants: 6\n"
     ]
    }
   ],
   "source": [
    "# Basic constant operations\n",
    "# The value returned by the constructor represents the output\n",
    "# of the Constant op.\n",
    "a = tf.constant(2)\n",
    "b = tf.constant(3)\n",
    "\n",
    "# Launch the default graph.\n",
    "with tf.Session() as sess:\n",
    "    print (\"a: %i\" % sess.run(a), \"b: %i\" % sess.run(b))\n",
    "    print (\"Addition with constants: %i\" % sess.run(a+b))\n",
    "    print (\"Multiplication with constants: %i\" % sess.run(a*b))\n",
    "    "
   ]
  },
  {
   "cell_type": "code",
   "execution_count": 3,
   "metadata": {
    "collapsed": true
   },
   "outputs": [],
   "source": [
    "# Basic Operations with variable as graph input\n",
    "# The value returned by the constructor represents the output\n",
    "# of the Variable op. (define as input when running session)\n",
    "# tf Graph input\n",
    "a = tf.placeholder(tf.int16)\n",
    "b = tf.placeholder(tf.int16)"
   ]
  },
  {
   "cell_type": "code",
   "execution_count": 4,
   "metadata": {
    "collapsed": true
   },
   "outputs": [],
   "source": [
    "# Define some operations\n",
    "add = tf.add(a, b)\n",
    "mul = tf.multiply(a, b)"
   ]
  },
  {
   "cell_type": "code",
   "execution_count": 5,
   "metadata": {},
   "outputs": [
    {
     "name": "stdout",
     "output_type": "stream",
     "text": [
      "Addition with variables: 5\n",
      "Multiplication with variables: 6\n"
     ]
    }
   ],
   "source": [
    "# Launch the default graph.\n",
    "with tf.Session() as sess:\n",
    "    # Run every operation with variable input\n",
    "    print (\"Addition with variables: %i\" % sess.run(add, feed_dict={a: 2, b: 3}))\n",
    "    print (\"Multiplication with variables: %i\" % sess.run(mul, feed_dict={a: 2, b: 3}))"
   ]
  },
  {
   "cell_type": "markdown",
   "metadata": {},
   "source": [
    "Check Keras installation"
   ]
  },
  {
   "cell_type": "code",
   "execution_count": 6,
   "metadata": {},
   "outputs": [
    {
     "name": "stderr",
     "output_type": "stream",
     "text": [
      "Using TensorFlow backend.\n"
     ]
    }
   ],
   "source": [
    "from keras.models import Sequential\n",
    "import keras\n",
    "from keras.layers import Dense, Activation\n",
    "\n",
    "model = Sequential([\n",
    "    Dense(32, input_shape=(100,)), # model.add(Dense(units=32, activation='relu', input_dim=100))\n",
    "    Activation('relu'),\n",
    "    Dense(10),\n",
    "    Activation('softmax'), # model.add(Dense(units=10, activation='softmax'))\n",
    "])"
   ]
  },
  {
   "cell_type": "code",
   "execution_count": 7,
   "metadata": {
    "collapsed": true
   },
   "outputs": [],
   "source": [
    "model.compile(loss=keras.losses.categorical_crossentropy,\n",
    "              optimizer=keras.optimizers.SGD(lr=0.01, momentum=0.9, nesterov=True))"
   ]
  },
  {
   "cell_type": "code",
   "execution_count": 8,
   "metadata": {},
   "outputs": [
    {
     "name": "stdout",
     "output_type": "stream",
     "text": [
      "Epoch 1/10\n",
      "1000/1000 [==============================] - 3s 3ms/step - loss: 2.3530\n",
      "Epoch 2/10\n",
      "1000/1000 [==============================] - 0s 97us/step - loss: 2.3030\n",
      "Epoch 3/10\n",
      "1000/1000 [==============================] - 0s 94us/step - loss: 2.2865\n",
      "Epoch 4/10\n",
      "1000/1000 [==============================] - 0s 96us/step - loss: 2.2736\n",
      "Epoch 5/10\n",
      "1000/1000 [==============================] - 0s 94us/step - loss: 2.2606\n",
      "Epoch 6/10\n",
      "1000/1000 [==============================] - 0s 93us/step - loss: 2.2483\n",
      "Epoch 7/10\n",
      "1000/1000 [==============================] - 0s 88us/step - loss: 2.2331\n",
      "Epoch 8/10\n",
      "1000/1000 [==============================] - 0s 82us/step - loss: 2.2223\n",
      "Epoch 9/10\n",
      "1000/1000 [==============================] - 0s 83us/step - loss: 2.2080\n",
      "Epoch 10/10\n",
      "1000/1000 [==============================] - 0s 84us/step - loss: 2.1986\n"
     ]
    },
    {
     "data": {
      "text/plain": [
       "<keras.callbacks.History at 0x1e18a93cef0>"
      ]
     },
     "execution_count": 8,
     "metadata": {},
     "output_type": "execute_result"
    }
   ],
   "source": [
    "# Generate dummy data\n",
    "import numpy as np\n",
    "data = np.random.random((1000, 100))\n",
    "labels = np.random.randint(10, size=(1000, 1))\n",
    "\n",
    "# Convert labels to categorical one-hot encoding\n",
    "one_hot_labels = keras.utils.to_categorical(labels, num_classes=10)\n",
    "\n",
    "# Train the model, iterating on the data in batches of 32 samples\n",
    "model.fit(data, one_hot_labels, epochs=10, batch_size=32)"
   ]
  },
  {
   "cell_type": "code",
   "execution_count": 9,
   "metadata": {},
   "outputs": [
    {
     "data": {
      "text/plain": [
       "3"
      ]
     },
     "execution_count": 9,
     "metadata": {},
     "output_type": "execute_result"
    }
   ],
   "source": [
    "res = model.predict(np.random.random((1,100)))\n",
    "loss = -np.log(res)\n",
    "np.argmax(loss)"
   ]
  },
  {
   "cell_type": "code",
   "execution_count": 5,
   "metadata": {},
   "outputs": [
    {
     "name": "stdout",
     "output_type": "stream",
     "text": [
      "Scoring image 000.0\n",
      "Scoring image 000.1\n",
      "Scoring image 000.2\n",
      "Scoring image 000.3\n",
      "Scoring image 000.4\n",
      "Scoring image 000.5\n",
      "Scoring image 000.6\n",
      "Scoring image 000.7\n",
      "Scoring image 000.8\n",
      "Scoring image 000.9\n"
     ]
    }
   ],
   "source": [
    "for n in range(1000):\n",
    "    n_max = 1000\n",
    "    divisor = 10\n",
    "    if( n % (n_max/divisor) ==0 ):\n",
    "        print('Scoring image {0:05}'.format(n/n_max))"
   ]
  },
  {
   "cell_type": "code",
   "execution_count": 1,
   "metadata": {},
   "outputs": [
    {
     "name": "stderr",
     "output_type": "stream",
     "text": [
      "Using TensorFlow backend.\n"
     ]
    }
   ],
   "source": [
    "import numpy\n",
    "import keras\n",
    "from keras_rcnn import datasets, models, preprocessing, utils\n",
    "from keras_rcnn.datasets import shape"
   ]
  },
  {
   "cell_type": "code",
   "execution_count": 2,
   "metadata": {},
   "outputs": [
    {
     "data": {
      "text/plain": [
       "[{'image': {'checksum': '594a0f1afe997e95fb94eac2f971e356',\n",
       "   'pathname': '/home/claudio/Documents/venv/lib/python3.6/site-packages/keras_rcnn/data/shape/images/6819516a-9371-4eb7-9c1a-cb0d7a85e9fd.png',\n",
       "   'shape': {'r': 224, 'c': 224, 'channels': 3}},\n",
       "  'objects': []},\n",
       " {'image': {'checksum': '40c0a474028213b98ccf2257750c428b',\n",
       "   'pathname': '/home/claudio/Documents/venv/lib/python3.6/site-packages/keras_rcnn/data/shape/images/2af93b0f-f6f2-4c8a-9b69-f15e1502d94a.png',\n",
       "   'shape': {'r': 224, 'c': 224, 'channels': 3}},\n",
       "  'objects': []},\n",
       " {'image': {'checksum': '4f9a960ee2db1b367c9728d4f7256a32',\n",
       "   'pathname': '/home/claudio/Documents/venv/lib/python3.6/site-packages/keras_rcnn/data/shape/images/a318d511-c8f8-44fc-9d08-688d3594956f.png',\n",
       "   'shape': {'r': 224, 'c': 224, 'channels': 3}},\n",
       "  'objects': [{'bounding_box': {'minimum': {'r': 28, 'c': 184},\n",
       "     'maximum': {'r': 58, 'c': 218}},\n",
       "    'category': 'triangle'},\n",
       "   {'bounding_box': {'minimum': {'r': 117, 'c': 158},\n",
       "     'maximum': {'r': 205, 'c': 206}},\n",
       "    'category': 'rectangle'},\n",
       "   {'bounding_box': {'minimum': {'r': 4, 'c': 108},\n",
       "     'maximum': {'r': 32, 'c': 140}},\n",
       "    'category': 'triangle'},\n",
       "   {'bounding_box': {'minimum': {'r': 130, 'c': 18},\n",
       "     'maximum': {'r': 201, 'c': 89}},\n",
       "    'category': 'circle'},\n",
       "   {'bounding_box': {'minimum': {'r': 53, 'c': 56},\n",
       "     'maximum': {'r': 84, 'c': 91}},\n",
       "    'category': 'triangle'},\n",
       "   {'bounding_box': {'minimum': {'r': 8, 'c': 55},\n",
       "     'maximum': {'r': 49, 'c': 102}},\n",
       "    'category': 'triangle'},\n",
       "   {'bounding_box': {'minimum': {'r': 79, 'c': 11},\n",
       "     'maximum': {'r': 112, 'c': 44}},\n",
       "    'category': 'circle'},\n",
       "   {'bounding_box': {'minimum': {'r': 158, 'c': 89},\n",
       "     'maximum': {'r': 212, 'c': 129}},\n",
       "    'category': 'rectangle'},\n",
       "   {'bounding_box': {'minimum': {'r': 64, 'c': 87},\n",
       "     'maximum': {'r': 122, 'c': 153}},\n",
       "    'category': 'triangle'},\n",
       "   {'bounding_box': {'minimum': {'r': 25, 'c': 3},\n",
       "     'maximum': {'r': 58, 'c': 36}},\n",
       "    'category': 'circle'},\n",
       "   {'bounding_box': {'minimum': {'r': 68, 'c': 190},\n",
       "     'maximum': {'r': 96, 'c': 222}},\n",
       "    'category': 'triangle'},\n",
       "   {'bounding_box': {'minimum': {'r': 15, 'c': 141},\n",
       "     'maximum': {'r': 51, 'c': 182}},\n",
       "    'category': 'triangle'},\n",
       "   {'bounding_box': {'minimum': {'r': 74, 'c': 142},\n",
       "     'maximum': {'r': 117, 'c': 185}},\n",
       "    'category': 'circle'}]},\n",
       " {'image': {'checksum': 'ee57d5276733818a0538d75e6c136e2b',\n",
       "   'pathname': '/home/claudio/Documents/venv/lib/python3.6/site-packages/keras_rcnn/data/shape/images/e07f3eb3-bb6f-4b1e-9ff3-918b4b517751.png',\n",
       "   'shape': {'r': 224, 'c': 224, 'channels': 3}},\n",
       "  'objects': [{'bounding_box': {'minimum': {'r': 0, 'c': 79},\n",
       "     'maximum': {'r': 83, 'c': 162}},\n",
       "    'category': 'circle'},\n",
       "   {'bounding_box': {'minimum': {'r': 167, 'c': 94},\n",
       "     'maximum': {'r': 213, 'c': 152}},\n",
       "    'category': 'rectangle'},\n",
       "   {'bounding_box': {'minimum': {'r': 110, 'c': 183},\n",
       "     'maximum': {'r': 174, 'c': 216}},\n",
       "    'category': 'rectangle'},\n",
       "   {'bounding_box': {'minimum': {'r': 102, 'c': 78},\n",
       "     'maximum': {'r': 165, 'c': 150}},\n",
       "    'category': 'triangle'},\n",
       "   {'bounding_box': {'minimum': {'r': 45, 'c': 21},\n",
       "     'maximum': {'r': 117, 'c': 77}},\n",
       "    'category': 'rectangle'},\n",
       "   {'bounding_box': {'minimum': {'r': 36, 'c': 157},\n",
       "     'maximum': {'r': 73, 'c': 199}},\n",
       "    'category': 'triangle'},\n",
       "   {'bounding_box': {'minimum': {'r': 179, 'c': 154},\n",
       "     'maximum': {'r': 211, 'c': 190}},\n",
       "    'category': 'triangle'},\n",
       "   {'bounding_box': {'minimum': {'r': 5, 'c': 181},\n",
       "     'maximum': {'r': 42, 'c': 218}},\n",
       "    'category': 'circle'},\n",
       "   {'bounding_box': {'minimum': {'r': 146, 'c': 17},\n",
       "     'maximum': {'r': 187, 'c': 58}},\n",
       "    'category': 'circle'},\n",
       "   {'bounding_box': {'minimum': {'r': 185, 'c': 191},\n",
       "     'maximum': {'r': 222, 'c': 223}},\n",
       "    'category': 'rectangle'},\n",
       "   {'bounding_box': {'minimum': {'r': 69, 'c': 189},\n",
       "     'maximum': {'r': 97, 'c': 221}},\n",
       "    'category': 'triangle'},\n",
       "   {'bounding_box': {'minimum': {'r': 7, 'c': 30},\n",
       "     'maximum': {'r': 42, 'c': 65}},\n",
       "    'category': 'circle'},\n",
       "   {'bounding_box': {'minimum': {'r': 120, 'c': 61},\n",
       "     'maximum': {'r': 151, 'c': 92}},\n",
       "    'category': 'circle'},\n",
       "   {'bounding_box': {'minimum': {'r': 82, 'c': 162},\n",
       "     'maximum': {'r': 110, 'c': 194}},\n",
       "    'category': 'triangle'}]}]"
      ]
     },
     "execution_count": 2,
     "metadata": {},
     "output_type": "execute_result"
    }
   ],
   "source": [
    "training_dictionary, test_dictionary = shape.load_data()\n",
    "\"\"\"\n",
    "categories = {\"circle\": 1, \"rectangle\": 2, \"triangle\": 3}\n",
    "\n",
    "generator = preprocessing.ObjectDetectionGenerator()\n",
    "\n",
    "generator = generator.flow_from_dictionary(\n",
    "    dictionary=training_dictionary,\n",
    "    categories=categories,\n",
    "    target_size=(224, 224)\n",
    ")\n",
    "\n",
    "validation_data = preprocessing.ObjectDetectionGenerator()\n",
    "\n",
    "validation_data = validation_data.flow_from_dictionary(\n",
    "    dictionary=test_dictionary,\n",
    "    categories=categories,\n",
    "    target_size=(224, 224)\n",
    ")\n",
    "\n",
    "target, _ = generator.next()\n",
    "\n",
    "target_bounding_boxes, target_categories, target_images, target_masks, target_metadata = target\n",
    "\n",
    "target_bounding_boxes = numpy.squeeze(target_bounding_boxes)\n",
    "\n",
    "target_images = numpy.squeeze(target_images)\n",
    "\n",
    "target_categories = numpy.argmax(target_categories, -1)\n",
    "\n",
    "target_categories = numpy.squeeze(target_categories)\n",
    "\n",
    "utils.show_bounding_boxes(target_images, target_bounding_boxes, target_categories)\"\"\"\n",
    "training_dictionary"
   ]
  },
  {
   "cell_type": "code",
   "execution_count": null,
   "metadata": {},
   "outputs": [],
   "source": [
    "# keras_rcnn.\n",
    "model = models.RCNN((224, 224, 3), [\"circle\", \"rectangle\", \"triangle\"])"
   ]
  },
  {
   "cell_type": "code",
   "execution_count": null,
   "metadata": {},
   "outputs": [],
   "source": [
    "optimizer = keras.optimizers.Adam()\n",
    "\n",
    "model.compile(optimizer)"
   ]
  },
  {
   "cell_type": "code",
   "execution_count": null,
   "metadata": {},
   "outputs": [],
   "source": [
    "model.fit_generator(\n",
    "    epochs=10,\n",
    "    generator=generator,\n",
    "    validation_data=validation_data\n",
    ")"
   ]
  },
  {
   "cell_type": "code",
   "execution_count": null,
   "metadata": {},
   "outputs": [],
   "source": []
  }
 ],
 "metadata": {
  "kernelspec": {
   "display_name": "rsna",
   "language": "python",
   "name": "rsna"
  },
  "language_info": {
   "codemirror_mode": {
    "name": "ipython",
    "version": 3
   },
   "file_extension": ".py",
   "mimetype": "text/x-python",
   "name": "python",
   "nbconvert_exporter": "python",
   "pygments_lexer": "ipython3",
   "version": "3.6.5"
  }
 },
 "nbformat": 4,
 "nbformat_minor": 2
}
